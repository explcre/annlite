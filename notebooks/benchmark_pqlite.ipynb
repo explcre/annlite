{
 "cells": [
  {
   "cell_type": "markdown",
   "metadata": {
    "toc": true
   },
   "source": [
    "<h1>Table of Contents<span class=\"tocSkip\"></span></h1>\n",
    "<div class=\"toc\"><ul class=\"toc-item\"><li><span><a href=\"#Benchmark-pqlite\" data-toc-modified-id=\"Benchmark-pqlite-1\"><span class=\"toc-item-num\">1&nbsp;&nbsp;</span>Benchmark pqlite</a></span><ul class=\"toc-item\"><li><span><a href=\"#Time\" data-toc-modified-id=\"Time-1.1\"><span class=\"toc-item-num\">1.1&nbsp;&nbsp;</span>Time</a></span></li><li><span><a href=\"#Quality\" data-toc-modified-id=\"Quality-1.2\"><span class=\"toc-item-num\">1.2&nbsp;&nbsp;</span>Quality</a></span><ul class=\"toc-item\"><li><span><a href=\"#Plotting-pq-neighbors-vs-true-neighbors\" data-toc-modified-id=\"Plotting-pq-neighbors-vs-true-neighbors-1.2.1\"><span class=\"toc-item-num\">1.2.1&nbsp;&nbsp;</span>Plotting <code>pq neighbors</code> vs <code>true neighbors</code></a></span></li></ul></li><li><span><a href=\"#precision,-recall,-query_time-vs-n_subvectors-&amp;--n_cells\" data-toc-modified-id=\"precision,-recall,-query_time-vs-n_subvectors-&amp;--n_cells-1.3\"><span class=\"toc-item-num\">1.3&nbsp;&nbsp;</span><code>precision, recall, query_time</code> vs <code>n_subvectors</code> &amp;  <code>n_cells</code></a></span></li></ul></li></ul></div>"
   ]
  },
  {
   "cell_type": "markdown",
   "metadata": {
    "ExecuteTime": {
     "end_time": "2021-11-15T10:56:27.351656Z",
     "start_time": "2021-11-15T10:56:27.349773Z"
    }
   },
   "source": [
    "## Benchmark pqlite"
   ]
  },
  {
   "cell_type": "code",
   "execution_count": 1,
   "metadata": {
    "ExecuteTime": {
     "end_time": "2021-11-15T15:40:25.957110Z",
     "start_time": "2021-11-15T15:40:25.568791Z"
    }
   },
   "outputs": [],
   "source": [
    "import pqlite\n",
    "pqlite.__path__\n",
    "import time\n",
    "\n",
    "import jina\n",
    "from jina.math.distance import cdist\n",
    "\n",
    "import sklearn\n",
    "from sklearn.datasets import make_blobs\n",
    "from sklearn.model_selection import train_test_split"
   ]
  },
  {
   "cell_type": "code",
   "execution_count": 6,
   "metadata": {
    "ExecuteTime": {
     "end_time": "2021-11-15T15:43:58.503839Z",
     "start_time": "2021-11-15T15:43:04.621890Z"
    },
    "scrolled": true
   },
   "outputs": [
    {
     "name": "stderr",
     "output_type": "stream",
     "text": [
      "2021-11-15 16:43:04.689 | INFO     | pqlite.index:fit:87 - => start training VQ codec with 12480 data...\n",
      "2021-11-15 16:43:05.117 | INFO     | pqlite.index:fit:90 - => start training PQ codec with 12480 data...\n",
      "2021-11-15 16:43:58.502 | INFO     | pqlite.index:fit:93 - => pqlite is successfully trained!\n"
     ]
    }
   ],
   "source": [
    "import random\n",
    "import numpy as np\n",
    "from pqlite import PQLite\n",
    "\n",
    "#N = 100_000 # number of data points\n",
    "Nt = 12_500 \n",
    "Nq = 1\n",
    "D = 128 # dimentionality / number of features\n",
    "top_k = 100\n",
    "n_cells = 18\n",
    "n_subvectors = 64\n",
    "\n",
    "# 2,000 128-dim vectors for training\n",
    "np.random.seed(123)\n",
    "Xtr, Xte =train_test_split(make_blobs(n_samples = Nt, n_features = D)[0].astype(np.float32), test_size=20)\n",
    "#Xt = np.random.random((Nt, D)).astype(np.float32)  \n",
    "\n",
    "# the column schema: (name:str, dtype:type, create_index: bool)\n",
    "pq = PQLite(d_vector=D, \n",
    "            n_cells=n_cells,\n",
    "            n_subvectors=n_subvectors, \n",
    "            columns=[('x', float, True)])\n",
    "pq.fit(Xtr)\n",
    "#pq.add(Xtr, ids=list(range(len(Xtr))))"
   ]
  },
  {
   "cell_type": "code",
   "execution_count": 7,
   "metadata": {
    "ExecuteTime": {
     "end_time": "2021-11-15T15:43:58.522966Z",
     "start_time": "2021-11-15T15:43:58.516219Z"
    }
   },
   "outputs": [
    {
     "ename": "AttributeError",
     "evalue": "'PQLite' object has no attribute '_cell_tables'",
     "output_type": "error",
     "traceback": [
      "\u001b[0;31m---------------------------------------------------------------------------\u001b[0m",
      "\u001b[0;31mAttributeError\u001b[0m                            Traceback (most recent call last)",
      "\u001b[0;32m/var/folders/05/h71x7gh54sx_5y43ppkq9_dw0000gq/T/ipykernel_9136/4140155666.py\u001b[0m in \u001b[0;36m<module>\u001b[0;34m\u001b[0m\n\u001b[0;32m----> 1\u001b[0;31m \u001b[0mpq\u001b[0m\u001b[0;34m.\u001b[0m\u001b[0m_cell_tables\u001b[0m\u001b[0;34m\u001b[0m\u001b[0;34m\u001b[0m\u001b[0m\n\u001b[0m",
      "\u001b[0;31mAttributeError\u001b[0m: 'PQLite' object has no attribute '_cell_tables'"
     ]
    }
   ],
   "source": [
    "pq._cell_tables"
   ]
  },
  {
   "cell_type": "code",
   "execution_count": 255,
   "metadata": {
    "ExecuteTime": {
     "end_time": "2021-11-15T11:07:07.631809Z",
     "start_time": "2021-11-15T11:07:07.615499Z"
    }
   },
   "outputs": [],
   "source": [
    "Nq = 1\n",
    "query = Xte[[10]] \n",
    "\n",
    "# without filtering\n",
    "pq_dists, ids = pq.search(query, k=5)"
   ]
  },
  {
   "cell_type": "markdown",
   "metadata": {},
   "source": [
    "### Time"
   ]
  },
  {
   "cell_type": "code",
   "execution_count": 256,
   "metadata": {
    "ExecuteTime": {
     "end_time": "2021-11-15T11:07:15.312007Z",
     "start_time": "2021-11-15T11:07:07.662130Z"
    }
   },
   "outputs": [
    {
     "name": "stdout",
     "output_type": "stream",
     "text": [
      "9.45 ms ± 471 µs per loop (mean ± std. dev. of 7 runs, 100 loops each)\n"
     ]
    }
   ],
   "source": [
    "%timeit  pq.search(query,  k=top_k)"
   ]
  },
  {
   "cell_type": "code",
   "execution_count": 257,
   "metadata": {
    "ExecuteTime": {
     "end_time": "2021-11-15T11:07:17.068357Z",
     "start_time": "2021-11-15T11:07:15.349864Z"
    }
   },
   "outputs": [
    {
     "name": "stdout",
     "output_type": "stream",
     "text": [
      "2.07 ms ± 85 µs per loop (mean ± std. dev. of 7 runs, 100 loops each)\n"
     ]
    }
   ],
   "source": [
    "%timeit res = cdist(query, Xtr, metric='euclidean')"
   ]
  },
  {
   "cell_type": "markdown",
   "metadata": {},
   "source": [
    "### Quality\n",
    "\n",
    "Manually observing slices of a high dimensional space it seems that the\n",
    "retrieved items from pqlite are nearby the query and the best values from the exact and exhaustive distance computations."
   ]
  },
  {
   "cell_type": "code",
   "execution_count": 258,
   "metadata": {
    "ExecuteTime": {
     "end_time": "2021-11-15T11:07:17.112059Z",
     "start_time": "2021-11-15T11:07:17.107346Z"
    },
    "code_folding": []
   },
   "outputs": [],
   "source": [
    "def _precision(predicted, relevant, eval_at):\n",
    "    \"\"\"\n",
    "    fraction of retrieved documents that are relevant to the query\n",
    "    \"\"\"\n",
    "    if eval_at == 0:\n",
    "        return 0.0\n",
    "    predicted_at_k = predicted[:eval_at]\n",
    "    n_predicted_and_relevant = len(set(predicted_at_k).intersection(set(relevant)))\n",
    "\n",
    "    return n_predicted_and_relevant / len(predicted)\n",
    "\n",
    "def _recall(predicted, relevant, eval_at):\n",
    "    \"\"\"\n",
    "    fraction of the relevant documents that are successfully retrieved\n",
    "    \"\"\"\n",
    "    if eval_at == 0:\n",
    "        return 0.0\n",
    "    predicted_at_k = predicted[:eval_at]\n",
    "    n_predicted_and_relevant = len(set(predicted_at_k).intersection(set(relevant)))\n",
    "    return n_predicted_and_relevant/ len(relevant)\n"
   ]
  },
  {
   "cell_type": "code",
   "execution_count": 259,
   "metadata": {
    "ExecuteTime": {
     "end_time": "2021-11-15T11:07:17.157128Z",
     "start_time": "2021-11-15T11:07:17.150924Z"
    }
   },
   "outputs": [],
   "source": [
    "query = Xte[[11]]  \n",
    "true_distances = cdist(query, Xtr, metric='euclidean').flatten()\n",
    "\n",
    "true_ids = np.argsort(true_distances)[0:top_k]\n",
    "true_dists = true_distances[true_ids]"
   ]
  },
  {
   "cell_type": "code",
   "execution_count": 260,
   "metadata": {
    "ExecuteTime": {
     "end_time": "2021-11-15T11:07:17.210980Z",
     "start_time": "2021-11-15T11:07:17.206314Z"
    }
   },
   "outputs": [
    {
     "data": {
      "text/plain": [
       "array([    0,   192,   300,   371,   545,   677,   767,   813,   933,\n",
       "        1000,  1131,  1219,  1308,  1389,  1590,  1615,  1686,  1713,\n",
       "        1740,  1802,  1943,  2372,  2447,  2618,  2719,  2921,  3010,\n",
       "        3258,  3337,  3418,  3926,  3967,  4140,  4376,  4612,  4625,\n",
       "        4661,  5243,  5433,  5491,  5534,  5619,  5657,  5693,  5699,\n",
       "        5875,  6016,  6413,  6440,  6511,  6624,  6772,  6825,  7103,\n",
       "        7125,  7155,  7948,  8025,  8052,  8098,  8251,  8327,  8366,\n",
       "        8551,  8572,  8931,  9087,  9094,  9239,  9356,  9739,  9867,\n",
       "        9877,  9952,  9978,  9987, 10077, 10174, 10187, 10214, 10277,\n",
       "       10457, 10488, 10982, 11059, 11077, 11083, 11115, 11172, 11280,\n",
       "       11379, 11382, 11445, 11641, 11911, 12001, 12194, 12212, 12234,\n",
       "       12342])"
      ]
     },
     "execution_count": 260,
     "metadata": {},
     "output_type": "execute_result"
    }
   ],
   "source": [
    "true_ids.sort()\n",
    "true_ids"
   ]
  },
  {
   "cell_type": "code",
   "execution_count": 261,
   "metadata": {
    "ExecuteTime": {
     "end_time": "2021-11-15T11:07:17.267968Z",
     "start_time": "2021-11-15T11:07:17.253367Z"
    }
   },
   "outputs": [],
   "source": [
    "pq_dists, pq_ids = pq.search(query,  k=top_k)\n",
    "pq_ids = np.array([int(x) for x in pq_ids[0]])"
   ]
  },
  {
   "cell_type": "code",
   "execution_count": 262,
   "metadata": {
    "ExecuteTime": {
     "end_time": "2021-11-15T11:07:17.313398Z",
     "start_time": "2021-11-15T11:07:17.309275Z"
    },
    "scrolled": true
   },
   "outputs": [
    {
     "data": {
      "text/plain": [
       "array([    0,   192,   371,   545,   608,   677,   767,   933,  1308,\n",
       "        1590,  1615,  1713,  1802,  1943,  2372,  2447,  2618,  2764,\n",
       "        2921,  2956,  3337,  3418,  3429,  3715,  3798,  3854,  3926,\n",
       "        3967,  4028,  4140,  4376,  4612,  4625,  4661,  4698,  4764,\n",
       "        5243,  5491,  5534,  5619,  5693,  5875,  6016,  6206,  6413,\n",
       "        6440,  6573,  6624,  6646,  6772,  6825,  6896,  6979,  7103,\n",
       "        7125,  7155,  7258,  7890,  7947,  7948,  8098,  8251,  8274,\n",
       "        8327,  8551,  8584,  8931,  9087,  9094,  9239,  9867,  9877,\n",
       "        9952,  9978,  9980,  9987,  9998, 10077, 10174, 10214, 10277,\n",
       "       10457, 10563, 10614, 11077, 11083, 11115, 11172, 11280, 11379,\n",
       "       11382, 11409, 11445, 11641, 11911, 12001, 12194, 12212, 12234,\n",
       "       12342])"
      ]
     },
     "execution_count": 262,
     "metadata": {},
     "output_type": "execute_result"
    }
   ],
   "source": [
    "pq_ids.sort()\n",
    "pq_ids"
   ]
  },
  {
   "cell_type": "code",
   "execution_count": 264,
   "metadata": {
    "ExecuteTime": {
     "end_time": "2021-11-15T11:07:17.407892Z",
     "start_time": "2021-11-15T11:07:17.404495Z"
    }
   },
   "outputs": [
    {
     "name": "stdout",
     "output_type": "stream",
     "text": [
      "0.75\n",
      "0.75\n"
     ]
    }
   ],
   "source": [
    "print(_precision(true_ids, pq_ids, top_k))\n",
    "print(_recall(true_ids, pq_ids, top_k))"
   ]
  },
  {
   "cell_type": "markdown",
   "metadata": {},
   "source": [
    "#### Plotting `pq neighbors` vs `true neighbors`"
   ]
  },
  {
   "cell_type": "code",
   "execution_count": 248,
   "metadata": {
    "ExecuteTime": {
     "end_time": "2021-11-15T11:04:45.207285Z",
     "start_time": "2021-11-15T11:04:45.204068Z"
    }
   },
   "outputs": [],
   "source": [
    "import matplotlib.pyplot as plt\n",
    "\n",
    "def paint_slice(Xtr, query, feat1, feat2):\n",
    "    plt.scatter(Xtr[:,feat1], Xtr[:,feat2], color='blue', alpha=0.2)\n",
    "\n",
    "    for pq_id in pq_ids:\n",
    "        plt.scatter(Xtr[pq_id, feat1], Xtr[pq_id, feat2], color='black')\n",
    "\n",
    "    for true_id in true_ids:\n",
    "        plt.scatter(Xtr[true_id, feat1], Xtr[true_id, feat2], color='orange')\n",
    "\n",
    "    plt.scatter(query[:, feat1], query[:, feat2], color='red')\n",
    "    "
   ]
  },
  {
   "cell_type": "code",
   "execution_count": 249,
   "metadata": {
    "ExecuteTime": {
     "end_time": "2021-11-15T11:04:48.289905Z",
     "start_time": "2021-11-15T11:04:46.914397Z"
    }
   },
   "outputs": [
    {
     "data": {
      "image/png": "[encoded data removed]",
      "text/plain": [
       "<Figure size 432x288 with 1 Axes>"
      ]
     },
     "metadata": {
      "needs_background": "light"
     },
     "output_type": "display_data"
    }
   ],
   "source": [
    "feat1, feat2 = 0, 1\n",
    "paint_slice(Xtr, query, feat1, feat2)"
   ]
  },
  {
   "cell_type": "code",
   "execution_count": 250,
   "metadata": {
    "ExecuteTime": {
     "end_time": "2021-11-15T11:04:49.773728Z",
     "start_time": "2021-11-15T11:04:48.319030Z"
    }
   },
   "outputs": [
    {
     "data": {
      "image/png": "[encoded data removed]",
      "text/plain": [
       "<Figure size 432x288 with 1 Axes>"
      ]
     },
     "metadata": {
      "needs_background": "light"
     },
     "output_type": "display_data"
    }
   ],
   "source": [
    "feat1, feat2 = 8, 100\n",
    "paint_slice(Xtr, query, feat1, feat2)"
   ]
  },
  {
   "cell_type": "code",
   "execution_count": 251,
   "metadata": {
    "ExecuteTime": {
     "end_time": "2021-11-15T11:04:51.227962Z",
     "start_time": "2021-11-15T11:04:49.805941Z"
    }
   },
   "outputs": [
    {
     "data": {
      "image/png": "[encoded data removed]",
      "text/plain": [
       "<Figure size 432x288 with 1 Axes>"
      ]
     },
     "metadata": {
      "needs_background": "light"
     },
     "output_type": "display_data"
    }
   ],
   "source": [
    "feat1, feat2 = 3,4\n",
    "paint_slice(Xtr, query, feat1, feat2)"
   ]
  },
  {
   "cell_type": "markdown",
   "metadata": {},
   "source": [
    "\n",
    "###  `precision, recall, query_time` vs `n_subvectors` &  `n_cells` "
   ]
  },
  {
   "cell_type": "code",
   "execution_count": 1,
   "metadata": {
    "ExecuteTime": {
     "end_time": "2021-11-15T08:00:55.572927Z",
     "start_time": "2021-11-15T07:34:42.431045Z"
    },
    "code_folding": [],
    "scrolled": false
   },
   "outputs": [
    {
     "name": "stderr",
     "output_type": "stream",
     "text": [
      "2021-11-15 08:34:46.224 | INFO     | pqlite.index:fit:90 - => start training VQ codec with 20480 data...\n"
     ]
    },
    {
     "name": "stdout",
     "output_type": "stream",
     "text": [
      "Xtr: (124980, 128) vs Xte: (20, 128)\n"
     ]
    },
    {
     "name": "stderr",
     "output_type": "stream",
     "text": [
      "2021-11-15 08:34:46.813 | INFO     | pqlite.index:fit:93 - => start training PQ codec with 20480 data...\n",
      "2021-11-15 08:35:28.611 | INFO     | pqlite.index:fit:96 - => pqlite is successfully trained!\n",
      "2021-11-15 08:35:33.820 | DEBUG    | pqlite.storage.cell:_expand:148 - => total storage capacity is expanded by 124980 for 8 cells\n",
      "2021-11-15 08:35:33.827 | DEBUG    | pqlite.storage.cell:insert:90 - => 124980 new items added\n",
      "2021-11-15 08:35:35.771 | INFO     | pqlite.index:fit:90 - => start training VQ codec with 20480 data...\n"
     ]
    },
    {
     "name": "stdout",
     "output_type": "stream",
     "text": [
      "{'precision': 0.33, 'recall': 0.33, 'train_time': 42.38768696784973, 'index_time': 5.221065044403076, 'query_time': 1.872915267944336, 'indexer_hyperparams': {'n_cells': 8, 'n_subvectors': 32}}\n"
     ]
    },
    {
     "name": "stderr",
     "output_type": "stream",
     "text": [
      "2021-11-15 08:35:36.410 | INFO     | pqlite.index:fit:93 - => start training PQ codec with 20480 data...\n",
      "2021-11-15 08:37:01.639 | INFO     | pqlite.index:fit:96 - => pqlite is successfully trained!\n",
      "2021-11-15 08:37:09.290 | DEBUG    | pqlite.storage.cell:_expand:148 - => total storage capacity is expanded by 124980 for 8 cells\n",
      "2021-11-15 08:37:09.300 | DEBUG    | pqlite.storage.cell:insert:90 - => 124980 new items added\n",
      "2021-11-15 08:37:11.534 | INFO     | pqlite.index:fit:90 - => start training VQ codec with 20480 data...\n"
     ]
    },
    {
     "name": "stdout",
     "output_type": "stream",
     "text": [
      "{'precision': 0.73, 'recall': 0.73, 'train_time': 85.86931085586548, 'index_time': 7.66510796546936, 'query_time': 2.16772198677063, 'indexer_hyperparams': {'n_cells': 8, 'n_subvectors': 64}}\n"
     ]
    },
    {
     "name": "stderr",
     "output_type": "stream",
     "text": [
      "2021-11-15 08:37:12.140 | INFO     | pqlite.index:fit:93 - => start training PQ codec with 20480 data...\n",
      "\u001b[1;33mUserWarning: One of the clusters is empty. Re-run kmeans with a different initialization.\u001b[0m \u001b[1;30m(raised from /Users/davidbuchaca1/opt/anaconda3/lib/python3.8/site-packages/scipy/cluster/vq.py:607)\u001b[0m\n",
      "2021-11-15 08:39:39.717 | INFO     | pqlite.index:fit:96 - => pqlite is successfully trained!\n",
      "2021-11-15 08:39:51.389 | DEBUG    | pqlite.storage.cell:_expand:148 - => total storage capacity is expanded by 124980 for 8 cells\n",
      "2021-11-15 08:39:51.399 | DEBUG    | pqlite.storage.cell:insert:90 - => 124980 new items added\n",
      "2021-11-15 08:39:54.419 | INFO     | pqlite.index:fit:90 - => start training VQ codec with 20480 data...\n"
     ]
    },
    {
     "name": "stdout",
     "output_type": "stream",
     "text": [
      "{'precision': 0.93, 'recall': 0.93, 'train_time': 148.18310689926147, 'index_time': 11.686479330062866, 'query_time': 2.9563419818878174, 'indexer_hyperparams': {'n_cells': 8, 'n_subvectors': 128}}\n"
     ]
    },
    {
     "name": "stderr",
     "output_type": "stream",
     "text": [
      "2021-11-15 08:39:55.151 | INFO     | pqlite.index:fit:93 - => start training PQ codec with 20480 data...\n",
      "2021-11-15 08:40:38.323 | INFO     | pqlite.index:fit:96 - => pqlite is successfully trained!\n",
      "2021-11-15 08:40:45.023 | DEBUG    | pqlite.storage.cell:_expand:148 - => total storage capacity is expanded by 124980 for 16 cells\n",
      "2021-11-15 08:40:45.036 | DEBUG    | pqlite.storage.cell:insert:90 - => 124980 new items added\n",
      "2021-11-15 08:40:46.215 | INFO     | pqlite.index:fit:90 - => start training VQ codec with 20480 data...\n"
     ]
    },
    {
     "name": "stdout",
     "output_type": "stream",
     "text": [
      "{'precision': 0.32999999999999996, 'recall': 0.32999999999999996, 'train_time': 43.904764890670776, 'index_time': 6.719267129898071, 'query_time': 1.09629487991333, 'indexer_hyperparams': {'n_cells': 16, 'n_subvectors': 32}}\n"
     ]
    },
    {
     "name": "stderr",
     "output_type": "stream",
     "text": [
      "2021-11-15 08:40:47.178 | INFO     | pqlite.index:fit:93 - => start training PQ codec with 20480 data...\n",
      "2021-11-15 08:42:14.522 | INFO     | pqlite.index:fit:96 - => pqlite is successfully trained!\n",
      "2021-11-15 08:42:22.177 | DEBUG    | pqlite.storage.cell:_expand:148 - => total storage capacity is expanded by 124980 for 16 cells\n",
      "2021-11-15 08:42:22.188 | DEBUG    | pqlite.storage.cell:insert:90 - => 124980 new items added\n",
      "2021-11-15 08:42:23.398 | INFO     | pqlite.index:fit:90 - => start training VQ codec with 20480 data...\n"
     ]
    },
    {
     "name": "stdout",
     "output_type": "stream",
     "text": [
      "{'precision': 0.745, 'recall': 0.745, 'train_time': 88.30725908279419, 'index_time': 7.6708550453186035, 'query_time': 1.1464340686798096, 'indexer_hyperparams': {'n_cells': 16, 'n_subvectors': 64}}\n"
     ]
    },
    {
     "name": "stderr",
     "output_type": "stream",
     "text": [
      "2021-11-15 08:42:24.086 | INFO     | pqlite.index:fit:93 - => start training PQ codec with 20480 data...\n",
      "2021-11-15 08:45:00.207 | INFO     | pqlite.index:fit:96 - => pqlite is successfully trained!\n",
      "2021-11-15 08:45:11.449 | DEBUG    | pqlite.storage.cell:_expand:148 - => total storage capacity is expanded by 124980 for 16 cells\n",
      "2021-11-15 08:45:11.462 | DEBUG    | pqlite.storage.cell:insert:90 - => 124980 new items added\n",
      "2021-11-15 08:45:12.943 | INFO     | pqlite.index:fit:90 - => start training VQ codec with 20480 data...\n"
     ]
    },
    {
     "name": "stdout",
     "output_type": "stream",
     "text": [
      "{'precision': 0.9400000000000002, 'recall': 0.9400000000000002, 'train_time': 156.81013298034668, 'index_time': 11.25960087776184, 'query_time': 1.4163682460784912, 'indexer_hyperparams': {'n_cells': 16, 'n_subvectors': 128}}\n"
     ]
    },
    {
     "name": "stderr",
     "output_type": "stream",
     "text": [
      "2021-11-15 08:45:13.697 | INFO     | pqlite.index:fit:93 - => start training PQ codec with 20480 data...\n",
      "2021-11-15 08:45:54.875 | INFO     | pqlite.index:fit:96 - => pqlite is successfully trained!\n",
      "2021-11-15 08:46:00.111 | DEBUG    | pqlite.storage.cell:_expand:148 - => total storage capacity is expanded by 124980 for 32 cells\n",
      "2021-11-15 08:46:00.124 | DEBUG    | pqlite.storage.cell:insert:90 - => 124980 new items added\n",
      "2021-11-15 08:46:00.739 | INFO     | pqlite.index:fit:90 - => start training VQ codec with 20480 data...\n"
     ]
    },
    {
     "name": "stdout",
     "output_type": "stream",
     "text": [
      "{'precision': 0.2899999999999999, 'recall': 0.2899999999999999, 'train_time': 41.932196855545044, 'index_time': 5.255139112472534, 'query_time': 0.5477046966552734, 'indexer_hyperparams': {'n_cells': 32, 'n_subvectors': 32}}\n"
     ]
    },
    {
     "name": "stderr",
     "output_type": "stream",
     "text": [
      "2021-11-15 08:46:01.543 | INFO     | pqlite.index:fit:93 - => start training PQ codec with 20480 data...\n",
      "2021-11-15 08:47:28.276 | INFO     | pqlite.index:fit:96 - => pqlite is successfully trained!\n",
      "2021-11-15 08:47:36.482 | DEBUG    | pqlite.storage.cell:_expand:148 - => total storage capacity is expanded by 124980 for 32 cells\n",
      "2021-11-15 08:47:36.496 | DEBUG    | pqlite.storage.cell:insert:90 - => 124980 new items added\n",
      "2021-11-15 08:47:37.240 | INFO     | pqlite.index:fit:90 - => start training VQ codec with 20480 data...\n"
     ]
    },
    {
     "name": "stdout",
     "output_type": "stream",
     "text": [
      "{'precision': 0.595, 'recall': 0.595, 'train_time': 87.53748512268066, 'index_time': 8.22494888305664, 'query_time': 0.6751902103424072, 'indexer_hyperparams': {'n_cells': 32, 'n_subvectors': 64}}\n"
     ]
    },
    {
     "name": "stderr",
     "output_type": "stream",
     "text": [
      "2021-11-15 08:47:38.090 | INFO     | pqlite.index:fit:93 - => start training PQ codec with 20480 data...\n",
      "2021-11-15 08:50:07.046 | INFO     | pqlite.index:fit:96 - => pqlite is successfully trained!\n",
      "2021-11-15 08:50:19.543 | DEBUG    | pqlite.storage.cell:_expand:148 - => total storage capacity is expanded by 124980 for 32 cells\n",
      "2021-11-15 08:50:19.563 | DEBUG    | pqlite.storage.cell:insert:90 - => 124980 new items added\n",
      "2021-11-15 08:50:20.555 | INFO     | pqlite.index:fit:90 - => start training VQ codec with 20480 data...\n"
     ]
    },
    {
     "name": "stdout",
     "output_type": "stream",
     "text": [
      "{'precision': 0.6549999999999999, 'recall': 0.6549999999999999, 'train_time': 149.8060851097107, 'index_time': 12.523751974105835, 'query_time': 0.8992969989776611, 'indexer_hyperparams': {'n_cells': 32, 'n_subvectors': 128}}\n"
     ]
    },
    {
     "name": "stderr",
     "output_type": "stream",
     "text": [
      "2021-11-15 08:50:21.687 | INFO     | pqlite.index:fit:93 - => start training PQ codec with 20480 data...\n",
      "2021-11-15 08:51:08.201 | INFO     | pqlite.index:fit:96 - => pqlite is successfully trained!\n",
      "2021-11-15 08:51:14.284 | DEBUG    | pqlite.storage.cell:_expand:148 - => total storage capacity is expanded by 124974 for 64 cells\n",
      "2021-11-15 08:51:14.312 | DEBUG    | pqlite.storage.cell:insert:90 - => 124980 new items added\n",
      "2021-11-15 08:51:14.764 | INFO     | pqlite.index:fit:90 - => start training VQ codec with 20480 data...\n"
     ]
    },
    {
     "name": "stdout",
     "output_type": "stream",
     "text": [
      "{'precision': 0.215, 'recall': 0.215, 'train_time': 47.64722514152527, 'index_time': 6.1179358959198, 'query_time': 0.36566591262817383, 'indexer_hyperparams': {'n_cells': 64, 'n_subvectors': 32}}\n"
     ]
    },
    {
     "name": "stderr",
     "output_type": "stream",
     "text": [
      "2021-11-15 08:51:15.847 | INFO     | pqlite.index:fit:93 - => start training PQ codec with 20480 data...\n",
      "2021-11-15 08:52:48.199 | INFO     | pqlite.index:fit:96 - => pqlite is successfully trained!\n",
      "2021-11-15 08:52:57.407 | DEBUG    | pqlite.storage.cell:_expand:148 - => total storage capacity is expanded by 123965 for 64 cells\n",
      "2021-11-15 08:52:57.434 | DEBUG    | pqlite.storage.cell:insert:90 - => 124980 new items added\n",
      "2021-11-15 08:52:57.945 | INFO     | pqlite.index:fit:90 - => start training VQ codec with 20480 data...\n"
     ]
    },
    {
     "name": "stdout",
     "output_type": "stream",
     "text": [
      "{'precision': 0.4, 'recall': 0.4, 'train_time': 93.43564510345459, 'index_time': 9.240575075149536, 'query_time': 0.41728687286376953, 'indexer_hyperparams': {'n_cells': 64, 'n_subvectors': 64}}\n"
     ]
    },
    {
     "name": "stderr",
     "output_type": "stream",
     "text": [
      "2021-11-15 08:52:59.054 | INFO     | pqlite.index:fit:93 - => start training PQ codec with 20480 data...\n",
      "2021-11-15 08:55:29.469 | INFO     | pqlite.index:fit:96 - => pqlite is successfully trained!\n",
      "2021-11-15 08:55:41.514 | DEBUG    | pqlite.storage.cell:_expand:148 - => total storage capacity is expanded by 124932 for 64 cells\n",
      "2021-11-15 08:55:41.539 | DEBUG    | pqlite.storage.cell:insert:90 - => 124980 new items added\n",
      "2021-11-15 08:55:42.053 | INFO     | pqlite.index:fit:90 - => start training VQ codec with 20480 data...\n"
     ]
    },
    {
     "name": "stdout",
     "output_type": "stream",
     "text": [
      "{'precision': 0.505, 'recall': 0.505, 'train_time': 151.52461910247803, 'index_time': 12.076996088027954, 'query_time': 0.42200589179992676, 'indexer_hyperparams': {'n_cells': 64, 'n_subvectors': 128}}\n"
     ]
    },
    {
     "name": "stderr",
     "output_type": "stream",
     "text": [
      "2021-11-15 08:55:43.467 | INFO     | pqlite.index:fit:93 - => start training PQ codec with 20480 data...\n",
      "2021-11-15 08:56:26.092 | INFO     | pqlite.index:fit:96 - => pqlite is successfully trained!\n",
      "2021-11-15 08:56:31.916 | DEBUG    | pqlite.storage.cell:_expand:148 - => total storage capacity is expanded by 81602 for 128 cells\n",
      "2021-11-15 08:56:31.953 | DEBUG    | pqlite.storage.cell:insert:90 - => 124980 new items added\n",
      "2021-11-15 08:56:32.217 | INFO     | pqlite.index:fit:90 - => start training VQ codec with 20480 data...\n"
     ]
    },
    {
     "name": "stdout",
     "output_type": "stream",
     "text": [
      "{'precision': 0.22000000000000006, 'recall': 0.22000000000000006, 'train_time': 44.03998112678528, 'index_time': 5.865411758422852, 'query_time': 0.17523694038391113, 'indexer_hyperparams': {'n_cells': 128, 'n_subvectors': 32}}\n"
     ]
    },
    {
     "name": "stderr",
     "output_type": "stream",
     "text": [
      "2021-11-15 08:56:33.602 | INFO     | pqlite.index:fit:93 - => start training PQ codec with 20480 data...\n",
      "2021-11-15 08:57:59.880 | INFO     | pqlite.index:fit:96 - => pqlite is successfully trained!\n",
      "2021-11-15 08:58:08.218 | DEBUG    | pqlite.storage.cell:_expand:148 - => total storage capacity is expanded by 72849 for 128 cells\n",
      "2021-11-15 08:58:08.253 | DEBUG    | pqlite.storage.cell:insert:90 - => 124980 new items added\n",
      "2021-11-15 08:58:08.546 | INFO     | pqlite.index:fit:90 - => start training VQ codec with 20480 data...\n"
     ]
    },
    {
     "name": "stdout",
     "output_type": "stream",
     "text": [
      "{'precision': 0.385, 'recall': 0.385, 'train_time': 87.66363906860352, 'index_time': 8.378465175628662, 'query_time': 0.2116832733154297, 'indexer_hyperparams': {'n_cells': 128, 'n_subvectors': 64}}\n"
     ]
    },
    {
     "name": "stderr",
     "output_type": "stream",
     "text": [
      "2021-11-15 08:58:09.923 | INFO     | pqlite.index:fit:93 - => start training PQ codec with 20480 data...\n",
      "2021-11-15 09:00:42.462 | INFO     | pqlite.index:fit:96 - => pqlite is successfully trained!\n",
      "2021-11-15 09:00:55.228 | DEBUG    | pqlite.storage.cell:_expand:148 - => total storage capacity is expanded by 91974 for 128 cells\n",
      "2021-11-15 09:00:55.269 | DEBUG    | pqlite.storage.cell:insert:90 - => 124980 new items added\n"
     ]
    },
    {
     "name": "stdout",
     "output_type": "stream",
     "text": [
      "{'precision': 0.32000000000000006, 'recall': 0.32000000000000006, 'train_time': 153.91668391227722, 'index_time': 12.811831712722778, 'query_time': 0.23727893829345703, 'indexer_hyperparams': {'n_cells': 128, 'n_subvectors': 128}}\n"
     ]
    }
   ],
   "source": [
    "import time\n",
    "import numpy as np\n",
    "from pqlite import PQLite\n",
    "\n",
    "from jina.math.distance import cdist\n",
    "from jina.math.helper import top_k as _top_k\n",
    "import pandas as pd\n",
    "from sklearn.datasets import make_blobs\n",
    "from sklearn.model_selection import train_test_split\n",
    "\n",
    "def _precision(predicted, relevant, eval_at):\n",
    "    \"\"\"\n",
    "    fraction of retrieved documents that are relevant to the query\n",
    "    \"\"\"\n",
    "    if eval_at == 0:\n",
    "        return 0.0\n",
    "    predicted_at_k = predicted[:eval_at]\n",
    "    n_predicted_and_relevant = len(set(predicted_at_k).intersection(set(relevant)))\n",
    "\n",
    "    return n_predicted_and_relevant / len(predicted)\n",
    "\n",
    "def _recall(predicted, relevant, eval_at):\n",
    "    \"\"\"\n",
    "    fraction of the relevant documents that are successfully retrieved\n",
    "    \"\"\"\n",
    "    if eval_at == 0:\n",
    "        return 0.0\n",
    "    predicted_at_k = predicted[:eval_at]\n",
    "    n_predicted_and_relevant = len(set(predicted_at_k).intersection(set(relevant)))\n",
    "    return n_predicted_and_relevant/ len(relevant)\n",
    "\n",
    "def evaluate(predicts, relevants, eval_at):\n",
    "    recall = 0\n",
    "    precision = 0\n",
    "    for _predict, _relevant in zip(predicts, relevants):\n",
    "        _predict = np.array([int(x) for x in _predict])\n",
    "        recall += _recall(_predict, _relevant, top_k)\n",
    "        precision += _precision(_predict, _relevant, top_k)\n",
    "\n",
    "    return recall / len(predicts), precision / len(predicts)\n",
    "\n",
    "\n",
    "#N = 100_000 # number of data points\n",
    "Nt = 125_000\n",
    "Nq = 1\n",
    "D = 128 # dimentionality / number of features\n",
    "top_k = 10\n",
    "n_cells = 64\n",
    "n_subvectors = 64\n",
    "n_queries = 1000\n",
    "\n",
    "# 2,000 128-dim vectors for training\n",
    "np.random.seed(123)\n",
    "Xtr, Xte = train_test_split(make_blobs(n_samples = Nt, n_features = D)[0].astype(np.float32), test_size=20)\n",
    "print(f'Xtr: {Xtr.shape} vs Xte: {Xte.shape}')\n",
    "\n",
    "precision_per_query = []\n",
    "recall_per_query = []\n",
    "results = []\n",
    "\n",
    "for n_cells in [8, 16, 32, 64, 128]:\n",
    "    for n_subvectors in [32, 64, 128]:\n",
    "\n",
    "        pq = PQLite(d_vector=D,\n",
    "                    n_cells=n_cells,\n",
    "                    n_subvectors=n_subvectors)\n",
    "\n",
    "        t0 = time.time()\n",
    "        pq.fit(Xtr[:20480])\n",
    "        train_time = abs(time.time() - t0)\n",
    "\n",
    "        t0 = time.time()\n",
    "        pq.add(Xtr, ids=list(range(len(Xtr))))\n",
    "        index_time = abs(t0 - time.time())\n",
    "\n",
    "        dists = cdist(Xte, Xtr, metric='euclidean')\n",
    "        true_dists, true_ids = _top_k(dists, top_k, descending=False)\n",
    "\n",
    "        t0 = time.time()\n",
    "        pq_dists, pq_ids = pq.search(Xte, k=top_k)\n",
    "        query_time = abs(t0 - time.time())\n",
    "\n",
    "        recall, precision = evaluate(pq_ids, true_ids, top_k)\n",
    "\n",
    "        results_dict = {'precision': precision,\n",
    "                        'recall': recall,\n",
    "                        'train_time': train_time,\n",
    "                        'index_time': index_time,\n",
    "                        'query_time': query_time,\n",
    "                        'indexer_hyperparams': {'n_cells': n_cells,\n",
    "                                                'n_subvectors': n_subvectors}\n",
    "                        }\n",
    "        print(results_dict)\n",
    "\n",
    "        results.append(results_dict)"
   ]
  },
  {
   "cell_type": "code",
   "execution_count": 9,
   "metadata": {
    "ExecuteTime": {
     "end_time": "2021-11-15T08:02:17.927767Z",
     "start_time": "2021-11-15T08:02:17.916723Z"
    }
   },
   "outputs": [
    {
     "data": {
      "text/html": [
       "<div>\n",
       "<style scoped>\n",
       "    .dataframe tbody tr th:only-of-type {\n",
       "        vertical-align: middle;\n",
       "    }\n",
       "\n",
       "    .dataframe tbody tr th {\n",
       "        vertical-align: top;\n",
       "    }\n",
       "\n",
       "    .dataframe thead th {\n",
       "        text-align: right;\n",
       "    }\n",
       "</style>\n",
       "<table border=\"1\" class=\"dataframe\">\n",
       "  <thead>\n",
       "    <tr style=\"text-align: right;\">\n",
       "      <th></th>\n",
       "      <th>precision</th>\n",
       "      <th>recall</th>\n",
       "      <th>train_time</th>\n",
       "      <th>index_time</th>\n",
       "      <th>query_time</th>\n",
       "      <th>indexer_hyperparams</th>\n",
       "    </tr>\n",
       "  </thead>\n",
       "  <tbody>\n",
       "    <tr>\n",
       "      <th>5</th>\n",
       "      <td>0.940</td>\n",
       "      <td>0.940</td>\n",
       "      <td>156.810133</td>\n",
       "      <td>11.259601</td>\n",
       "      <td>1.416368</td>\n",
       "      <td>{'n_cells': 16, 'n_subvectors': 128}</td>\n",
       "    </tr>\n",
       "    <tr>\n",
       "      <th>2</th>\n",
       "      <td>0.930</td>\n",
       "      <td>0.930</td>\n",
       "      <td>148.183107</td>\n",
       "      <td>11.686479</td>\n",
       "      <td>2.956342</td>\n",
       "      <td>{'n_cells': 8, 'n_subvectors': 128}</td>\n",
       "    </tr>\n",
       "    <tr>\n",
       "      <th>4</th>\n",
       "      <td>0.745</td>\n",
       "      <td>0.745</td>\n",
       "      <td>88.307259</td>\n",
       "      <td>7.670855</td>\n",
       "      <td>1.146434</td>\n",
       "      <td>{'n_cells': 16, 'n_subvectors': 64}</td>\n",
       "    </tr>\n",
       "    <tr>\n",
       "      <th>1</th>\n",
       "      <td>0.730</td>\n",
       "      <td>0.730</td>\n",
       "      <td>85.869311</td>\n",
       "      <td>7.665108</td>\n",
       "      <td>2.167722</td>\n",
       "      <td>{'n_cells': 8, 'n_subvectors': 64}</td>\n",
       "    </tr>\n",
       "    <tr>\n",
       "      <th>8</th>\n",
       "      <td>0.655</td>\n",
       "      <td>0.655</td>\n",
       "      <td>149.806085</td>\n",
       "      <td>12.523752</td>\n",
       "      <td>0.899297</td>\n",
       "      <td>{'n_cells': 32, 'n_subvectors': 128}</td>\n",
       "    </tr>\n",
       "    <tr>\n",
       "      <th>7</th>\n",
       "      <td>0.595</td>\n",
       "      <td>0.595</td>\n",
       "      <td>87.537485</td>\n",
       "      <td>8.224949</td>\n",
       "      <td>0.675190</td>\n",
       "      <td>{'n_cells': 32, 'n_subvectors': 64}</td>\n",
       "    </tr>\n",
       "    <tr>\n",
       "      <th>11</th>\n",
       "      <td>0.505</td>\n",
       "      <td>0.505</td>\n",
       "      <td>151.524619</td>\n",
       "      <td>12.076996</td>\n",
       "      <td>0.422006</td>\n",
       "      <td>{'n_cells': 64, 'n_subvectors': 128}</td>\n",
       "    </tr>\n",
       "    <tr>\n",
       "      <th>10</th>\n",
       "      <td>0.400</td>\n",
       "      <td>0.400</td>\n",
       "      <td>93.435645</td>\n",
       "      <td>9.240575</td>\n",
       "      <td>0.417287</td>\n",
       "      <td>{'n_cells': 64, 'n_subvectors': 64}</td>\n",
       "    </tr>\n",
       "    <tr>\n",
       "      <th>13</th>\n",
       "      <td>0.385</td>\n",
       "      <td>0.385</td>\n",
       "      <td>87.663639</td>\n",
       "      <td>8.378465</td>\n",
       "      <td>0.211683</td>\n",
       "      <td>{'n_cells': 128, 'n_subvectors': 64}</td>\n",
       "    </tr>\n",
       "    <tr>\n",
       "      <th>0</th>\n",
       "      <td>0.330</td>\n",
       "      <td>0.330</td>\n",
       "      <td>42.387687</td>\n",
       "      <td>5.221065</td>\n",
       "      <td>1.872915</td>\n",
       "      <td>{'n_cells': 8, 'n_subvectors': 32}</td>\n",
       "    </tr>\n",
       "    <tr>\n",
       "      <th>3</th>\n",
       "      <td>0.330</td>\n",
       "      <td>0.330</td>\n",
       "      <td>43.904765</td>\n",
       "      <td>6.719267</td>\n",
       "      <td>1.096295</td>\n",
       "      <td>{'n_cells': 16, 'n_subvectors': 32}</td>\n",
       "    </tr>\n",
       "    <tr>\n",
       "      <th>14</th>\n",
       "      <td>0.320</td>\n",
       "      <td>0.320</td>\n",
       "      <td>153.916684</td>\n",
       "      <td>12.811832</td>\n",
       "      <td>0.237279</td>\n",
       "      <td>{'n_cells': 128, 'n_subvectors': 128}</td>\n",
       "    </tr>\n",
       "    <tr>\n",
       "      <th>6</th>\n",
       "      <td>0.290</td>\n",
       "      <td>0.290</td>\n",
       "      <td>41.932197</td>\n",
       "      <td>5.255139</td>\n",
       "      <td>0.547705</td>\n",
       "      <td>{'n_cells': 32, 'n_subvectors': 32}</td>\n",
       "    </tr>\n",
       "    <tr>\n",
       "      <th>12</th>\n",
       "      <td>0.220</td>\n",
       "      <td>0.220</td>\n",
       "      <td>44.039981</td>\n",
       "      <td>5.865412</td>\n",
       "      <td>0.175237</td>\n",
       "      <td>{'n_cells': 128, 'n_subvectors': 32}</td>\n",
       "    </tr>\n",
       "    <tr>\n",
       "      <th>9</th>\n",
       "      <td>0.215</td>\n",
       "      <td>0.215</td>\n",
       "      <td>47.647225</td>\n",
       "      <td>6.117936</td>\n",
       "      <td>0.365666</td>\n",
       "      <td>{'n_cells': 64, 'n_subvectors': 32}</td>\n",
       "    </tr>\n",
       "  </tbody>\n",
       "</table>\n",
       "</div>"
      ],
      "text/plain": [
       "    precision  recall  train_time  index_time  query_time  \\\n",
       "5       0.940   0.940  156.810133   11.259601    1.416368   \n",
       "2       0.930   0.930  148.183107   11.686479    2.956342   \n",
       "4       0.745   0.745   88.307259    7.670855    1.146434   \n",
       "1       0.730   0.730   85.869311    7.665108    2.167722   \n",
       "8       0.655   0.655  149.806085   12.523752    0.899297   \n",
       "7       0.595   0.595   87.537485    8.224949    0.675190   \n",
       "11      0.505   0.505  151.524619   12.076996    0.422006   \n",
       "10      0.400   0.400   93.435645    9.240575    0.417287   \n",
       "13      0.385   0.385   87.663639    8.378465    0.211683   \n",
       "0       0.330   0.330   42.387687    5.221065    1.872915   \n",
       "3       0.330   0.330   43.904765    6.719267    1.096295   \n",
       "14      0.320   0.320  153.916684   12.811832    0.237279   \n",
       "6       0.290   0.290   41.932197    5.255139    0.547705   \n",
       "12      0.220   0.220   44.039981    5.865412    0.175237   \n",
       "9       0.215   0.215   47.647225    6.117936    0.365666   \n",
       "\n",
       "                      indexer_hyperparams  \n",
       "5    {'n_cells': 16, 'n_subvectors': 128}  \n",
       "2     {'n_cells': 8, 'n_subvectors': 128}  \n",
       "4     {'n_cells': 16, 'n_subvectors': 64}  \n",
       "1      {'n_cells': 8, 'n_subvectors': 64}  \n",
       "8    {'n_cells': 32, 'n_subvectors': 128}  \n",
       "7     {'n_cells': 32, 'n_subvectors': 64}  \n",
       "11   {'n_cells': 64, 'n_subvectors': 128}  \n",
       "10    {'n_cells': 64, 'n_subvectors': 64}  \n",
       "13   {'n_cells': 128, 'n_subvectors': 64}  \n",
       "0      {'n_cells': 8, 'n_subvectors': 32}  \n",
       "3     {'n_cells': 16, 'n_subvectors': 32}  \n",
       "14  {'n_cells': 128, 'n_subvectors': 128}  \n",
       "6     {'n_cells': 32, 'n_subvectors': 32}  \n",
       "12   {'n_cells': 128, 'n_subvectors': 32}  \n",
       "9     {'n_cells': 64, 'n_subvectors': 32}  "
      ]
     },
     "execution_count": 9,
     "metadata": {},
     "output_type": "execute_result"
    }
   ],
   "source": [
    "import pandas as pd\n",
    "results_df = pd.DataFrame(results)\n",
    "results_df.sort_values('recall', ascending=False)"
   ]
  },
  {
   "cell_type": "code",
   "execution_count": null,
   "metadata": {},
   "outputs": [],
   "source": []
  },
  {
   "cell_type": "code",
   "execution_count": null,
   "metadata": {},
   "outputs": [],
   "source": []
  }
 ],
 "metadata": {
  "kernelspec": {
   "display_name": "Python 3 (ipykernel)",
   "language": "python",
   "name": "python3"
  },
  "language_info": {
   "codemirror_mode": {
    "name": "ipython",
    "version": 3
   },
   "file_extension": ".py",
   "mimetype": "text/x-python",
   "name": "python",
   "nbconvert_exporter": "python",
   "pygments_lexer": "ipython3",
   "version": "3.8.5"
  },
  "toc": {
   "base_numbering": 1,
   "nav_menu": {},
   "number_sections": true,
   "sideBar": true,
   "skip_h1_title": false,
   "title_cell": "Table of Contents",
   "title_sidebar": "Contents",
   "toc_cell": true,
   "toc_position": {
    "height": "calc(100% - 180px)",
    "left": "10px",
    "top": "150px",
    "width": "165px"
   },
   "toc_section_display": true,
   "toc_window_display": true
  },
  "varInspector": {
   "cols": {
    "lenName": 16,
    "lenType": 16,
    "lenVar": 40
   },
   "kernels_config": {
    "python": {
     "delete_cmd_postfix": "",
     "delete_cmd_prefix": "del ",
     "library": "var_list.py",
     "varRefreshCmd": "print(var_dic_list())"
    },
    "r": {
     "delete_cmd_postfix": ") ",
     "delete_cmd_prefix": "rm(",
     "library": "var_list.r",
     "varRefreshCmd": "cat(var_dic_list()) "
    }
   },
   "types_to_exclude": [
    "module",
    "function",
    "builtin_function_or_method",
    "instance",
    "_Feature"
   ],
   "window_display": false
  }
 },
 "nbformat": 4,
 "nbformat_minor": 4
}
