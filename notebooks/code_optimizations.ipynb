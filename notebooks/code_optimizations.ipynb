{
 "cells": [
  {
   "cell_type": "markdown",
   "metadata": {
    "toc": true
   },
   "source": [
    "<h1>Table of Contents<span class=\"tocSkip\"></span></h1>\n",
    "<div class=\"toc\"><ul class=\"toc-item\"><li><span><a href=\"#Asymmetric-Distance-computation\" data-toc-modified-id=\"Asymmetric-Distance-computation-1\"><span class=\"toc-item-num\">1&nbsp;&nbsp;</span>Asymmetric Distance computation</a></span><ul class=\"toc-item\"><li><span><a href=\"#cython-version\" data-toc-modified-id=\"cython-version-1.1\"><span class=\"toc-item-num\">1.1&nbsp;&nbsp;</span>cython version</a></span></li></ul></li><li><span><a href=\"#Speed-up-precompute_adc-function\" data-toc-modified-id=\"Speed-up-precompute_adc-function-2\"><span class=\"toc-item-num\">2&nbsp;&nbsp;</span>Speed up <code>precompute_adc</code> function</a></span></li></ul></div>"
   ]
  },
  {
   "cell_type": "code",
   "execution_count": 1,
   "metadata": {
    "ExecuteTime": {
     "end_time": "2021-11-16T08:59:37.294916Z",
     "start_time": "2021-11-16T08:59:36.551027Z"
    }
   },
   "outputs": [],
   "source": [
    "%load_ext cython\n",
    "%timeit\n",
    "\n",
    "import Cython"
   ]
  },
  {
   "cell_type": "code",
   "execution_count": 2,
   "metadata": {
    "ExecuteTime": {
     "end_time": "2021-11-16T08:59:42.192698Z",
     "start_time": "2021-11-16T08:59:42.186772Z"
    }
   },
   "outputs": [
    {
     "data": {
      "text/plain": [
       "'0.29.24'"
      ]
     },
     "execution_count": 2,
     "metadata": {},
     "output_type": "execute_result"
    }
   ],
   "source": [
    "Cython.__version__"
   ]
  },
  {
   "cell_type": "code",
   "execution_count": 3,
   "metadata": {
    "ExecuteTime": {
     "end_time": "2021-11-16T08:59:44.775980Z",
     "start_time": "2021-11-16T08:59:44.774007Z"
    }
   },
   "outputs": [],
   "source": [
    "import numpy as np"
   ]
  },
  {
   "cell_type": "markdown",
   "metadata": {},
   "source": [
    "## Asymmetric Distance computation\n",
    "\n",
    "Currently the code performs\n",
    "\n",
    "```\n",
    "dists = np.sum(self.dtable[range(M), codes], axis=1)\n",
    "```\n",
    "which is equivalent to \n",
    "\n",
    "```python\n",
    "dists = np.zeros((N, )).astype(np.float32)\n",
    "for n in range(N):\n",
    "    for m in range(M):\n",
    "        dists[n] += self.dtable[m][codes[n][m]]\n",
    "\n",
    "```"
   ]
  },
  {
   "cell_type": "code",
   "execution_count": 59,
   "metadata": {
    "ExecuteTime": {
     "end_time": "2021-11-16T16:01:46.907846Z",
     "start_time": "2021-11-16T16:01:46.904729Z"
    }
   },
   "outputs": [],
   "source": [
    "M = 32\n",
    "np.random.seed(123)\n",
    "\n",
    "n_cluster = 256\n",
    "dtable = np.array(np.random.random((M, n_cluster)), 'float32')\n",
    "\n",
    "np.random.seed(123)\n",
    "pq_codes_batch = np.array([np.random.randint([M]*M)])\n",
    "N, M = pq_codes_batch.shape\n"
   ]
  },
  {
   "cell_type": "code",
   "execution_count": 62,
   "metadata": {
    "ExecuteTime": {
     "end_time": "2021-11-16T16:01:55.153997Z",
     "start_time": "2021-11-16T16:01:55.151371Z"
    }
   },
   "outputs": [
    {
     "data": {
      "text/plain": [
       "array([[30, 13, 30,  2, 28,  2,  6, 17, 19, 10, 27, 25, 22,  1,  0, 17,\n",
       "        30, 15,  9,  0, 14,  0, 15, 25, 19, 14, 29,  4,  0, 16,  4, 17]])"
      ]
     },
     "execution_count": 62,
     "metadata": {},
     "output_type": "execute_result"
    }
   ],
   "source": [
    "pq_codes_batch"
   ]
  },
  {
   "cell_type": "code",
   "execution_count": 6,
   "metadata": {
    "ExecuteTime": {
     "end_time": "2021-11-16T08:59:47.243346Z",
     "start_time": "2021-11-16T08:59:47.240376Z"
    }
   },
   "outputs": [
    {
     "data": {
      "text/plain": [
       "array([17.402649], dtype=float32)"
      ]
     },
     "execution_count": 6,
     "metadata": {},
     "output_type": "execute_result"
    }
   ],
   "source": [
    "dtable[range(M),pq_codes_batch].sum(axis=1)"
   ]
  },
  {
   "cell_type": "code",
   "execution_count": 7,
   "metadata": {
    "ExecuteTime": {
     "end_time": "2021-11-16T08:59:48.095687Z",
     "start_time": "2021-11-16T08:59:48.093288Z"
    }
   },
   "outputs": [],
   "source": [
    "def distances_loop_py(N,M, dtable):\n",
    "    dists = np.zeros((N, )).astype(np.float32)\n",
    "    for n in range(N):\n",
    "        for m in range(M):\n",
    "            dists[n] += dtable[m, pq_codes_batch[n,m]]\n",
    "    return dists"
   ]
  },
  {
   "cell_type": "code",
   "execution_count": 8,
   "metadata": {
    "ExecuteTime": {
     "end_time": "2021-11-16T08:59:48.500701Z",
     "start_time": "2021-11-16T08:59:48.497756Z"
    }
   },
   "outputs": [
    {
     "data": {
      "text/plain": [
       "array([17.402647], dtype=float32)"
      ]
     },
     "execution_count": 8,
     "metadata": {},
     "output_type": "execute_result"
    }
   ],
   "source": [
    "distances_loop_py(1,M,dtable)"
   ]
  },
  {
   "cell_type": "code",
   "execution_count": 9,
   "metadata": {
    "ExecuteTime": {
     "end_time": "2021-11-16T08:59:48.770671Z",
     "start_time": "2021-11-16T08:59:48.768207Z"
    }
   },
   "outputs": [
    {
     "data": {
      "text/plain": [
       "(32, 256)"
      ]
     },
     "execution_count": 9,
     "metadata": {},
     "output_type": "execute_result"
    }
   ],
   "source": [
    "dtable.shape"
   ]
  },
  {
   "cell_type": "code",
   "execution_count": 51,
   "metadata": {
    "ExecuteTime": {
     "end_time": "2021-11-16T15:53:55.271581Z",
     "start_time": "2021-11-16T15:53:44.848260Z"
    }
   },
   "outputs": [
    {
     "name": "stdout",
     "output_type": "stream",
     "text": [
      "12.7 µs ± 484 ns per loop (mean ± std. dev. of 7 runs, 100000 loops each)\n"
     ]
    }
   ],
   "source": [
    "%timeit distances_loop_py(1,M,dtable)"
   ]
  },
  {
   "cell_type": "code",
   "execution_count": 52,
   "metadata": {
    "ExecuteTime": {
     "end_time": "2021-11-16T15:54:00.829687Z",
     "start_time": "2021-11-16T15:53:55.286773Z"
    }
   },
   "outputs": [
    {
     "name": "stdout",
     "output_type": "stream",
     "text": [
      "6.81 µs ± 28.3 ns per loop (mean ± std. dev. of 7 runs, 100000 loops each)\n"
     ]
    }
   ],
   "source": [
    "%timeit dtable[range(M),pq_codes_batch].sum(axis=1)"
   ]
  },
  {
   "cell_type": "markdown",
   "metadata": {},
   "source": [
    "### cython version"
   ]
  },
  {
   "cell_type": "code",
   "execution_count": 11,
   "metadata": {
    "ExecuteTime": {
     "end_time": "2021-11-16T10:34:49.501755Z",
     "start_time": "2021-11-16T10:34:49.492720Z"
    },
    "scrolled": true
   },
   "outputs": [],
   "source": [
    "%%cython\n",
    "cimport numpy as cnp\n",
    "cimport cython\n",
    "             \n",
    "@cython.boundscheck(False)\n",
    "@cython.wraparound(False)\n",
    "cpdef distances_loop_cy(long M,float[:,:] dtable,long[:] pq_code):\n",
    "    cdef float dist = 0\n",
    "    cdef int m\n",
    "    \n",
    "    for m in range(M):\n",
    "        dist += dtable[m, pq_code[m]]\n",
    "\n",
    "    return dist"
   ]
  },
  {
   "cell_type": "code",
   "execution_count": 14,
   "metadata": {
    "ExecuteTime": {
     "end_time": "2021-11-16T14:56:59.504540Z",
     "start_time": "2021-11-16T14:56:59.502614Z"
    }
   },
   "outputs": [],
   "source": [
    "pq_code = pq_codes_batch.flatten()"
   ]
  },
  {
   "cell_type": "code",
   "execution_count": 13,
   "metadata": {
    "ExecuteTime": {
     "end_time": "2021-11-16T10:34:54.735798Z",
     "start_time": "2021-11-16T10:34:50.841282Z"
    }
   },
   "outputs": [
    {
     "name": "stdout",
     "output_type": "stream",
     "text": [
      "481 ns ± 6.02 ns per loop (mean ± std. dev. of 7 runs, 1000000 loops each)\n"
     ]
    }
   ],
   "source": [
    "%timeit distances_loop_cy(M, dtable, pq_code)"
   ]
  },
  {
   "cell_type": "markdown",
   "metadata": {},
   "source": [
    "We can make the method work for generic types but this will have a penalty when called from python "
   ]
  },
  {
   "cell_type": "code",
   "execution_count": 39,
   "metadata": {
    "ExecuteTime": {
     "end_time": "2021-11-16T15:04:04.764194Z",
     "start_time": "2021-11-16T15:04:04.760248Z"
    },
    "scrolled": true
   },
   "outputs": [],
   "source": [
    "%%cython\n",
    "cimport numpy as cnp\n",
    "cimport cython\n",
    "from cython cimport integral, floating\n",
    "             \n",
    "@cython.boundscheck(False)\n",
    "@cython.wraparound(False)\n",
    "cpdef floating distances_loop_cy2(integral M,\n",
    "                                  floating[:,:] dtable,\n",
    "                                  integral[:] pq_code):\n",
    "    cdef floating dist = 0\n",
    "    cdef integral m \n",
    "    \n",
    "    for m in range(M):\n",
    "        dist += dtable[m, pq_code[m]]\n",
    "\n",
    "    return dist"
   ]
  },
  {
   "cell_type": "code",
   "execution_count": 36,
   "metadata": {
    "ExecuteTime": {
     "end_time": "2021-11-16T15:03:42.861064Z",
     "start_time": "2021-11-16T15:03:27.926096Z"
    }
   },
   "outputs": [
    {
     "name": "stdout",
     "output_type": "stream",
     "text": [
      "1.84 µs ± 5.78 ns per loop (mean ± std. dev. of 7 runs, 1000000 loops each)\n"
     ]
    }
   ],
   "source": [
    "%timeit distances_loop_cy2(M, dtable, pq_code)"
   ]
  },
  {
   "cell_type": "markdown",
   "metadata": {},
   "source": [
    "## Speed up `precompute_adc` function"
   ]
  },
  {
   "cell_type": "code",
   "execution_count": 158,
   "metadata": {
    "ExecuteTime": {
     "end_time": "2021-11-16T16:55:05.566596Z",
     "start_time": "2021-11-16T16:55:05.532610Z"
    }
   },
   "outputs": [],
   "source": [
    "\n",
    "import sklearn\n",
    "from sklearn.datasets import make_blobs\n",
    "from sklearn.model_selection import train_test_split\n",
    "\n",
    "from pqlite.core.codec.pq import PQCodec\n",
    "\n",
    "D = 128\n",
    "n_clusters = 256\n",
    "M = 32\n",
    "\n",
    "D = 128 # dimentionality / number of features\n",
    "top_k = 100\n",
    "n_cells = 18\n",
    "n_subvectors = 64\n",
    "Nt = 5000\n",
    "d_subvector = int(D/M)\n",
    "\n",
    "np.random.seed(123)\n",
    "Xtr, Xte =train_test_split(make_blobs(n_samples = Nt, n_features = D)[0].astype(np.float32), test_size=20)\n",
    "\n",
    "pq = PQCodec(D, M, n_clusters)"
   ]
  },
  {
   "cell_type": "code",
   "execution_count": 127,
   "metadata": {
    "ExecuteTime": {
     "end_time": "2021-11-16T16:51:30.119652Z",
     "start_time": "2021-11-16T16:51:19.286199Z"
    }
   },
   "outputs": [],
   "source": [
    "pq.fit(Xtr)"
   ]
  },
  {
   "cell_type": "code",
   "execution_count": 129,
   "metadata": {
    "ExecuteTime": {
     "end_time": "2021-11-16T16:51:30.178776Z",
     "start_time": "2021-11-16T16:51:30.175133Z"
    }
   },
   "outputs": [
    {
     "data": {
      "text/plain": [
       "(32, 256, 4)"
      ]
     },
     "execution_count": 129,
     "metadata": {},
     "output_type": "execute_result"
    }
   ],
   "source": [
    "codebooks = pq.codebooks\n",
    "codebooks.shape"
   ]
  },
  {
   "cell_type": "code",
   "execution_count": 77,
   "metadata": {
    "ExecuteTime": {
     "end_time": "2021-11-16T16:29:36.704177Z",
     "start_time": "2021-11-16T16:29:32.523892Z"
    }
   },
   "outputs": [
    {
     "name": "stdout",
     "output_type": "stream",
     "text": [
      "513 µs ± 5.48 µs per loop (mean ± std. dev. of 7 runs, 1000 loops each)\n"
     ]
    }
   ],
   "source": [
    "%timeit pq.precompute_adc(Xtr[4,:])"
   ]
  },
  {
   "cell_type": "code",
   "execution_count": 118,
   "metadata": {
    "ExecuteTime": {
     "end_time": "2021-11-16T16:50:53.074845Z",
     "start_time": "2021-11-16T16:50:53.072858Z"
    },
    "scrolled": true
   },
   "outputs": [],
   "source": [
    "query = Xtr[4,:]\n",
    "#distance_table_from_class = pq.precompute_adc(query)\n",
    "#distance_table_from_class.dtable.shape"
   ]
  },
  {
   "cell_type": "code",
   "execution_count": 163,
   "metadata": {
    "ExecuteTime": {
     "end_time": "2021-11-16T16:55:22.294277Z",
     "start_time": "2021-11-16T16:55:22.290143Z"
    }
   },
   "outputs": [],
   "source": [
    "%%cython\n",
    "cimport numpy as cnp\n",
    "import numpy as np\n",
    "cimport cython\n",
    "             \n",
    "@cython.boundscheck(False)\n",
    "@cython.wraparound(False)\n",
    "cpdef precompute_adc(float[:] query, \n",
    "                     long n_subvectors, \n",
    "                     long n_clusters,\n",
    "                     long d_subvector,\n",
    "                     float[:,:,:] codebooks):\n",
    "    \n",
    "    dtable = np.empty((n_subvectors, n_clusters), dtype=np.float32)\n",
    "    for m in range(n_subvectors):\n",
    "        query_sub = query[m * d_subvector : (m + 1) * d_subvector]\n",
    "        dtable[m, :] = np.linalg.norm(codebooks[m] - query_sub, axis=1) ** 2\n",
    "    return dtable\n"
   ]
  },
  {
   "cell_type": "code",
   "execution_count": 166,
   "metadata": {
    "ExecuteTime": {
     "end_time": "2021-11-16T16:55:27.736043Z",
     "start_time": "2021-11-16T16:55:27.734210Z"
    }
   },
   "outputs": [],
   "source": [
    "#precompute_adc(query, n_subvectors, n_clusters, d_subvector, codebooks)"
   ]
  },
  {
   "cell_type": "code",
   "execution_count": 167,
   "metadata": {
    "ExecuteTime": {
     "end_time": "2021-11-16T16:55:29.998786Z",
     "start_time": "2021-11-16T16:55:29.995427Z"
    }
   },
   "outputs": [
    {
     "data": {
      "text/plain": [
       "array([[-1.7292025 , -2.7353914 , -3.7812238 ,  4.992066  ],\n",
       "       [ 0.94363374, -4.7408605 ,  0.47655922,  0.88397473],\n",
       "       [-1.4082857 , -1.5802077 , -4.2403502 ,  5.134796  ],\n",
       "       ...,\n",
       "       [-3.4168549 , -6.32316   , -7.942589  , -3.663811  ],\n",
       "       [-3.6777914 , -5.175822  , -8.004511  , -5.853117  ],\n",
       "       [-0.8550133 , -4.7895107 , -1.6036859 ,  2.6832523 ]],\n",
       "      dtype=float32)"
      ]
     },
     "execution_count": 167,
     "metadata": {},
     "output_type": "execute_result"
    }
   ],
   "source": [
    "codebooks[2]"
   ]
  },
  {
   "cell_type": "code",
   "execution_count": 168,
   "metadata": {
    "ExecuteTime": {
     "end_time": "2021-11-16T16:55:38.751923Z",
     "start_time": "2021-11-16T16:55:38.748418Z"
    }
   },
   "outputs": [
    {
     "data": {
      "text/plain": [
       "(4,)"
      ]
     },
     "execution_count": 168,
     "metadata": {},
     "output_type": "execute_result"
    }
   ],
   "source": [
    "m = 0\n",
    "query_sub = query[ m * d_subvector : (m + 1) * d_subvector]\n",
    "query_sub.shape"
   ]
  },
  {
   "cell_type": "markdown",
   "metadata": {},
   "source": [
    "We can avoid slices to use less memory and improve speed"
   ]
  },
  {
   "cell_type": "code",
   "execution_count": null,
   "metadata": {},
   "outputs": [],
   "source": []
  },
  {
   "cell_type": "code",
   "execution_count": null,
   "metadata": {},
   "outputs": [],
   "source": []
  }
 ],
 "metadata": {
  "kernelspec": {
   "display_name": "Python 3 (ipykernel)",
   "language": "python",
   "name": "python3"
  },
  "language_info": {
   "codemirror_mode": {
    "name": "ipython",
    "version": 3
   },
   "file_extension": ".py",
   "mimetype": "text/x-python",
   "name": "python",
   "nbconvert_exporter": "python",
   "pygments_lexer": "ipython3",
   "version": "3.8.5"
  },
  "toc": {
   "base_numbering": 1,
   "nav_menu": {},
   "number_sections": true,
   "sideBar": true,
   "skip_h1_title": false,
   "title_cell": "Table of Contents",
   "title_sidebar": "Contents",
   "toc_cell": true,
   "toc_position": {},
   "toc_section_display": true,
   "toc_window_display": true
  },
  "varInspector": {
   "cols": {
    "lenName": 16,
    "lenType": 16,
    "lenVar": 40
   },
   "kernels_config": {
    "python": {
     "delete_cmd_postfix": "",
     "delete_cmd_prefix": "del ",
     "library": "var_list.py",
     "varRefreshCmd": "print(var_dic_list())"
    },
    "r": {
     "delete_cmd_postfix": ") ",
     "delete_cmd_prefix": "rm(",
     "library": "var_list.r",
     "varRefreshCmd": "cat(var_dic_list()) "
    }
   },
   "types_to_exclude": [
    "module",
    "function",
    "builtin_function_or_method",
    "instance",
    "_Feature"
   ],
   "window_display": false
  }
 },
 "nbformat": 4,
 "nbformat_minor": 5
}
