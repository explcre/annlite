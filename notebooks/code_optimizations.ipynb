{
 "cells": [
  {
   "cell_type": "markdown",
   "metadata": {
    "toc": true
   },
   "source": [
    "<h1>Table of Contents<span class=\"tocSkip\"></span></h1>\n",
    "<div class=\"toc\"><ul class=\"toc-item\"><li><span><a href=\"#Asymmetric-Distance-computation\" data-toc-modified-id=\"Asymmetric-Distance-computation-1\"><span class=\"toc-item-num\">1&nbsp;&nbsp;</span>Asymmetric Distance computation</a></span><ul class=\"toc-item\"><li><span><a href=\"#cython-version\" data-toc-modified-id=\"cython-version-1.1\"><span class=\"toc-item-num\">1.1&nbsp;&nbsp;</span>cython version</a></span></li></ul></li><li><span><a href=\"#Speed-up-precompute_adc-function\" data-toc-modified-id=\"Speed-up-precompute_adc-function-2\"><span class=\"toc-item-num\">2&nbsp;&nbsp;</span>Speed up <code>precompute_adc</code> function</a></span></li></ul></div>"
   ]
  },
  {
   "cell_type": "code",
   "execution_count": 6,
   "metadata": {
    "ExecuteTime": {
     "end_time": "2021-11-17T16:19:59.037056Z",
     "start_time": "2021-11-17T16:19:58.773701Z"
    }
   },
   "outputs": [],
   "source": [
    "%load_ext cython\n",
    "%timeit\n",
    "\n",
    "import Cython"
   ]
  },
  {
   "cell_type": "code",
   "execution_count": 7,
   "metadata": {
    "ExecuteTime": {
     "end_time": "2021-11-17T16:19:59.056027Z",
     "start_time": "2021-11-17T16:19:59.046939Z"
    }
   },
   "outputs": [
    {
     "data": {
      "text/plain": [
       "'0.29.24'"
      ]
     },
     "execution_count": 7,
     "metadata": {},
     "output_type": "execute_result"
    }
   ],
   "source": [
    "Cython.__version__"
   ]
  },
  {
   "cell_type": "code",
   "execution_count": 8,
   "metadata": {
    "ExecuteTime": {
     "end_time": "2021-11-17T16:19:59.168640Z",
     "start_time": "2021-11-17T16:19:59.166681Z"
    }
   },
   "outputs": [],
   "source": [
    "import numpy as np"
   ]
  },
  {
   "cell_type": "markdown",
   "metadata": {},
   "source": [
    "## Asymmetric Distance computation\n",
    "\n",
    "Currently the code performs\n",
    "\n",
    "```\n",
    "dists = np.sum(self.dtable[range(M), codes], axis=1)\n",
    "```\n",
    "which is equivalent to \n",
    "\n",
    "```python\n",
    "dists = np.zeros((N, )).astype(np.float32)\n",
    "for n in range(N):\n",
    "    for m in range(M):\n",
    "        dists[n] += self.dtable[m][codes[n][m]]\n",
    "\n",
    "```"
   ]
  },
  {
   "cell_type": "code",
   "execution_count": 9,
   "metadata": {
    "ExecuteTime": {
     "end_time": "2021-11-17T16:19:59.552815Z",
     "start_time": "2021-11-17T16:19:59.549722Z"
    }
   },
   "outputs": [],
   "source": [
    "M = 32\n",
    "np.random.seed(123)\n",
    "\n",
    "n_cluster = 256\n",
    "dtable = np.array(np.random.random((M, n_cluster)), 'float32')\n",
    "\n",
    "np.random.seed(123)\n",
    "pq_codes_batch = np.array([np.random.randint([M]*M)])\n",
    "N, M = pq_codes_batch.shape\n"
   ]
  },
  {
   "cell_type": "code",
   "execution_count": 84,
   "metadata": {
    "ExecuteTime": {
     "end_time": "2021-11-17T16:31:50.990269Z",
     "start_time": "2021-11-17T16:31:50.987505Z"
    }
   },
   "outputs": [
    {
     "data": {
      "text/plain": [
       "array([[30, 13, 30,  2, 28,  2,  6, 17, 19, 10, 27, 25, 22,  1,  0, 17,\n",
       "        30, 15,  9,  0, 14,  0, 15, 25, 19, 14, 29,  4,  0, 16,  4, 17]])"
      ]
     },
     "execution_count": 84,
     "metadata": {},
     "output_type": "execute_result"
    }
   ],
   "source": [
    "pq_codes_batch"
   ]
  },
  {
   "cell_type": "code",
   "execution_count": 11,
   "metadata": {
    "ExecuteTime": {
     "end_time": "2021-11-17T16:20:00.812435Z",
     "start_time": "2021-11-17T16:20:00.809355Z"
    }
   },
   "outputs": [
    {
     "data": {
      "text/plain": [
       "array([17.402649], dtype=float32)"
      ]
     },
     "execution_count": 11,
     "metadata": {},
     "output_type": "execute_result"
    }
   ],
   "source": [
    "dtable[range(M),pq_codes_batch].sum(axis=1)"
   ]
  },
  {
   "cell_type": "code",
   "execution_count": 12,
   "metadata": {
    "ExecuteTime": {
     "end_time": "2021-11-17T16:20:01.790868Z",
     "start_time": "2021-11-17T16:20:01.788428Z"
    }
   },
   "outputs": [],
   "source": [
    "def distances_loop_py(N,M, dtable):\n",
    "    dists = np.zeros((N, )).astype(np.float32)\n",
    "    for n in range(N):\n",
    "        for m in range(M):\n",
    "            dists[n] += dtable[m, pq_codes_batch[n,m]]\n",
    "    return dists"
   ]
  },
  {
   "cell_type": "code",
   "execution_count": 13,
   "metadata": {
    "ExecuteTime": {
     "end_time": "2021-11-17T16:20:02.016873Z",
     "start_time": "2021-11-17T16:20:02.013902Z"
    }
   },
   "outputs": [
    {
     "data": {
      "text/plain": [
       "array([17.402647], dtype=float32)"
      ]
     },
     "execution_count": 13,
     "metadata": {},
     "output_type": "execute_result"
    }
   ],
   "source": [
    "distances_loop_py(1,M,dtable)"
   ]
  },
  {
   "cell_type": "code",
   "execution_count": 14,
   "metadata": {
    "ExecuteTime": {
     "end_time": "2021-11-17T16:20:02.195981Z",
     "start_time": "2021-11-17T16:20:02.193200Z"
    }
   },
   "outputs": [
    {
     "data": {
      "text/plain": [
       "(32, 256)"
      ]
     },
     "execution_count": 14,
     "metadata": {},
     "output_type": "execute_result"
    }
   ],
   "source": [
    "dtable.shape"
   ]
  },
  {
   "cell_type": "code",
   "execution_count": 51,
   "metadata": {
    "ExecuteTime": {
     "end_time": "2021-11-16T15:53:55.271581Z",
     "start_time": "2021-11-16T15:53:44.848260Z"
    }
   },
   "outputs": [
    {
     "name": "stdout",
     "output_type": "stream",
     "text": [
      "12.7 µs ± 484 ns per loop (mean ± std. dev. of 7 runs, 100000 loops each)\n"
     ]
    }
   ],
   "source": [
    "%timeit distances_loop_py(1,M,dtable)"
   ]
  },
  {
   "cell_type": "code",
   "execution_count": 52,
   "metadata": {
    "ExecuteTime": {
     "end_time": "2021-11-16T15:54:00.829687Z",
     "start_time": "2021-11-16T15:53:55.286773Z"
    }
   },
   "outputs": [
    {
     "name": "stdout",
     "output_type": "stream",
     "text": [
      "6.81 µs ± 28.3 ns per loop (mean ± std. dev. of 7 runs, 100000 loops each)\n"
     ]
    }
   ],
   "source": [
    "%timeit dtable[range(M),pq_codes_batch].sum(axis=1)"
   ]
  },
  {
   "cell_type": "markdown",
   "metadata": {},
   "source": [
    "### cython version"
   ]
  },
  {
   "cell_type": "code",
   "execution_count": 11,
   "metadata": {
    "ExecuteTime": {
     "end_time": "2021-11-16T10:34:49.501755Z",
     "start_time": "2021-11-16T10:34:49.492720Z"
    },
    "scrolled": true
   },
   "outputs": [],
   "source": [
    "%%cython\n",
    "cimport numpy as cnp\n",
    "cimport cython\n",
    "             \n",
    "@cython.boundscheck(False)\n",
    "@cython.wraparound(False)\n",
    "cpdef distances_loop_cy(long M,float[:,:] dtable,long[:] pq_code):\n",
    "    cdef float dist = 0\n",
    "    cdef int m\n",
    "    \n",
    "    for m in range(M):\n",
    "        dist += dtable[m, pq_code[m]]\n",
    "\n",
    "    return dist"
   ]
  },
  {
   "cell_type": "code",
   "execution_count": 14,
   "metadata": {
    "ExecuteTime": {
     "end_time": "2021-11-16T14:56:59.504540Z",
     "start_time": "2021-11-16T14:56:59.502614Z"
    }
   },
   "outputs": [],
   "source": [
    "pq_code = pq_codes_batch.flatten()"
   ]
  },
  {
   "cell_type": "code",
   "execution_count": 13,
   "metadata": {
    "ExecuteTime": {
     "end_time": "2021-11-16T10:34:54.735798Z",
     "start_time": "2021-11-16T10:34:50.841282Z"
    }
   },
   "outputs": [
    {
     "name": "stdout",
     "output_type": "stream",
     "text": [
      "481 ns ± 6.02 ns per loop (mean ± std. dev. of 7 runs, 1000000 loops each)\n"
     ]
    }
   ],
   "source": [
    "%timeit distances_loop_cy(M, dtable, pq_code)"
   ]
  },
  {
   "cell_type": "markdown",
   "metadata": {},
   "source": [
    "We can make the method work for generic types but this will have a penalty when called from python "
   ]
  },
  {
   "cell_type": "code",
   "execution_count": 39,
   "metadata": {
    "ExecuteTime": {
     "end_time": "2021-11-16T15:04:04.764194Z",
     "start_time": "2021-11-16T15:04:04.760248Z"
    },
    "scrolled": true
   },
   "outputs": [],
   "source": [
    "%%cython\n",
    "cimport numpy as cnp\n",
    "cimport cython\n",
    "from cython cimport integral, floating\n",
    "             \n",
    "@cython.boundscheck(False)\n",
    "@cython.wraparound(False)\n",
    "cpdef floating distances_loop_cy2(integral M,\n",
    "                                  floating[:,:] dtable,\n",
    "                                  integral[:] pq_code):\n",
    "    cdef floating dist = 0\n",
    "    cdef integral m \n",
    "    \n",
    "    for m in range(M):\n",
    "        dist += dtable[m, pq_code[m]]\n",
    "\n",
    "    return dist"
   ]
  },
  {
   "cell_type": "code",
   "execution_count": 36,
   "metadata": {
    "ExecuteTime": {
     "end_time": "2021-11-16T15:03:42.861064Z",
     "start_time": "2021-11-16T15:03:27.926096Z"
    }
   },
   "outputs": [
    {
     "name": "stdout",
     "output_type": "stream",
     "text": [
      "1.84 µs ± 5.78 ns per loop (mean ± std. dev. of 7 runs, 1000000 loops each)\n"
     ]
    }
   ],
   "source": [
    "%timeit distances_loop_cy2(M, dtable, pq_code)"
   ]
  },
  {
   "cell_type": "markdown",
   "metadata": {},
   "source": [
    "## Speed up `precompute_adc` function"
   ]
  },
  {
   "cell_type": "code",
   "execution_count": 87,
   "metadata": {
    "ExecuteTime": {
     "end_time": "2021-11-17T16:37:00.181878Z",
     "start_time": "2021-11-17T16:37:00.152685Z"
    }
   },
   "outputs": [],
   "source": [
    "\n",
    "import sklearn\n",
    "from sklearn.datasets import make_blobs\n",
    "from sklearn.model_selection import train_test_split\n",
    "\n",
    "from pqlite.core.codec.pq import PQCodec\n",
    "\n",
    "D = 128\n",
    "n_clusters = 256\n",
    "M = 32\n",
    "\n",
    "D = 128 # dimentionality / number of features\n",
    "top_k = 100\n",
    "n_cells = 18\n",
    "Nt = 5000\n",
    "d_subvector = int(D/M)\n",
    "n_subvectors = M\n",
    "\n",
    "\n",
    "np.random.seed(123)\n",
    "Xtr, Xte =train_test_split(make_blobs(n_samples = Nt, n_features = D)[0].astype(np.float32), test_size=20)\n",
    "\n",
    "pq = PQCodec(D, M, n_clusters)"
   ]
  },
  {
   "cell_type": "code",
   "execution_count": 88,
   "metadata": {
    "ExecuteTime": {
     "end_time": "2021-11-17T16:37:00.853937Z",
     "start_time": "2021-11-17T16:37:00.849972Z"
    }
   },
   "outputs": [
    {
     "data": {
      "text/plain": [
       "(128, 32, 4, 32)"
      ]
     },
     "execution_count": 88,
     "metadata": {},
     "output_type": "execute_result"
    }
   ],
   "source": [
    "D, M, d_subvector, n_subvectors"
   ]
  },
  {
   "cell_type": "code",
   "execution_count": 89,
   "metadata": {
    "ExecuteTime": {
     "end_time": "2021-11-17T16:37:11.427695Z",
     "start_time": "2021-11-17T16:37:01.502023Z"
    }
   },
   "outputs": [],
   "source": [
    "pq.fit(Xtr)"
   ]
  },
  {
   "cell_type": "code",
   "execution_count": 90,
   "metadata": {
    "ExecuteTime": {
     "end_time": "2021-11-17T16:37:11.446181Z",
     "start_time": "2021-11-17T16:37:11.443326Z"
    }
   },
   "outputs": [
    {
     "data": {
      "text/plain": [
       "(32, 256, 4)"
      ]
     },
     "execution_count": 90,
     "metadata": {},
     "output_type": "execute_result"
    }
   ],
   "source": [
    "codebooks = pq.codebooks\n",
    "codebooks.shape"
   ]
  },
  {
   "cell_type": "code",
   "execution_count": 91,
   "metadata": {
    "ExecuteTime": {
     "end_time": "2021-11-17T16:37:11.464583Z",
     "start_time": "2021-11-17T16:37:11.461801Z"
    }
   },
   "outputs": [
    {
     "data": {
      "text/plain": [
       "(256, 4)"
      ]
     },
     "execution_count": 91,
     "metadata": {},
     "output_type": "execute_result"
    }
   ],
   "source": [
    "codebooks[0].shape"
   ]
  },
  {
   "cell_type": "code",
   "execution_count": 77,
   "metadata": {
    "ExecuteTime": {
     "end_time": "2021-11-16T16:29:36.704177Z",
     "start_time": "2021-11-16T16:29:32.523892Z"
    }
   },
   "outputs": [
    {
     "name": "stdout",
     "output_type": "stream",
     "text": [
      "513 µs ± 5.48 µs per loop (mean ± std. dev. of 7 runs, 1000 loops each)\n"
     ]
    }
   ],
   "source": [
    "%timeit pq.precompute_adc(Xtr[4,:])"
   ]
  },
  {
   "cell_type": "code",
   "execution_count": 92,
   "metadata": {
    "ExecuteTime": {
     "end_time": "2021-11-17T16:37:11.488336Z",
     "start_time": "2021-11-17T16:37:11.486296Z"
    },
    "scrolled": false
   },
   "outputs": [],
   "source": [
    "query = Xtr[4,:]\n",
    "#distance_table_from_class = pq.precompute_adc(query)\n",
    "#distance_table_from_class.dtable.shape"
   ]
  },
  {
   "cell_type": "code",
   "execution_count": 93,
   "metadata": {
    "ExecuteTime": {
     "end_time": "2021-11-17T16:37:11.508571Z",
     "start_time": "2021-11-17T16:37:11.503858Z"
    }
   },
   "outputs": [
    {
     "data": {
      "text/plain": [
       "(32, 256)"
      ]
     },
     "execution_count": 93,
     "metadata": {},
     "output_type": "execute_result"
    }
   ],
   "source": [
    "dtable = pq.precompute_adc(Xtr[4,:])\n",
    "dtable.dtable.shape"
   ]
  },
  {
   "cell_type": "code",
   "execution_count": 179,
   "metadata": {
    "ExecuteTime": {
     "end_time": "2021-11-17T18:18:22.467109Z",
     "start_time": "2021-11-17T18:18:22.455197Z"
    }
   },
   "outputs": [
    {
     "name": "stdout",
     "output_type": "stream",
     "text": [
      "[ 5.7007833 -2.8085563  4.471332  -6.107677 ]\n",
      "[ 2.1323197  7.2024508 10.226158  -8.758023 ]\n",
      "[-0.9764044  -5.2295575  -0.61654216  1.1029097 ]\n",
      "[-6.669144 -4.418286  9.053021  2.149657]\n",
      "[-0.20022273  6.226501    4.7971654  -9.555226  ]\n",
      "[ 5.864654   8.026492  -7.0119166  6.246779 ]\n",
      "[-2.7369807 -5.6644206  3.464692  -9.996476 ]\n",
      "[ 4.0115952  8.87224    3.0414064 -2.5239882]\n",
      "[-0.89868146  5.2955227   1.101024   -8.345474  ]\n",
      "[ 2.6671724  6.4567213 -4.048157   8.562549 ]\n",
      "[ 4.8343267  2.780991   5.7438736 -7.9671087]\n",
      "[ 8.198433   6.8236904  8.358163  -8.474051 ]\n",
      "[-8.6224785 -5.8501544 -2.6554124 -2.8096726]\n",
      "[-0.15733108 -5.373121   -6.6942797   6.8998747 ]\n",
      "[ -2.203237     6.036231   -10.329724     0.59619546]\n",
      "[ 9.968843   0.6003177 -6.3680234  5.591793 ]\n",
      "[-3.0840025  3.7997324 -9.29037    3.2687526]\n",
      "[-10.0336895    5.4669385    0.23829271  -7.2484384 ]\n",
      "[-0.29932633 -9.099288    3.412477   11.089039  ]\n",
      "[ 6.5156407  1.5724932 -7.9759307  3.3829281]\n",
      "[ 3.6251895 -7.4156084  3.79495    0.7784265]\n",
      "[-2.5576801  6.0575724 -2.013469  -0.5058981]\n",
      "[-4.447029  -3.1622899  7.042103  -7.1508503]\n",
      "[-3.2163339 10.695849  -5.9205956  8.464346 ]\n",
      "[10.192387   -7.2008524  -2.3613672   0.45893186]\n",
      "[-3.3796659 -9.930908  -5.5330925 -6.3115096]\n",
      "[-7.7347255  4.951924   7.5867076 -7.749013 ]\n",
      "[-3.8819165  8.045136   0.4785305  3.4606361]\n",
      "[-10.5259905   1.5836174  10.480561   -0.9692833]\n",
      "[-9.585584    0.11316903  8.863224   -0.9133058 ]\n",
      "[ 6.8142715  5.6416483 -6.155755  -1.1280016]\n",
      "[ 4.258612  -2.09164   -6.9887824  8.332846 ]\n"
     ]
    },
    {
     "data": {
      "text/plain": [
       "(32, 256)"
      ]
     },
     "execution_count": 179,
     "metadata": {},
     "output_type": "execute_result"
    }
   ],
   "source": [
    "\n",
    "def precompute_adc3(query, \n",
    "                    d_subvector,\n",
    "                    n_clusters,\n",
    "                    codebooks):\n",
    "    n_subvectors = int(D/d_subvector)\n",
    "    dtable = np.empty((int(D/d_subvector), n_clusters), dtype=np.float32)\n",
    "\n",
    "    for m in range(n_subvectors):\n",
    "        query_sub = query[m * d_subvector : (m + 1) * d_subvector]\n",
    "        print(query_sub)\n",
    "        dtable[m, :] = np.linalg.norm(codebooks[m] - query_sub, axis=1) ** 2\n",
    "\n",
    "    return dtable\n",
    "\n",
    "dtable_custom = precompute_adc3(query, d_subvector, n_clusters, codebooks)\n",
    "dtable_custom.shape"
   ]
  },
  {
   "cell_type": "code",
   "execution_count": 115,
   "metadata": {
    "ExecuteTime": {
     "end_time": "2021-11-17T17:05:10.872007Z",
     "start_time": "2021-11-17T17:05:10.869575Z"
    }
   },
   "outputs": [],
   "source": [
    "np.testing.asserts_almost_equal(dtable_custom, dtable.dtable)"
   ]
  },
  {
   "cell_type": "code",
   "execution_count": 117,
   "metadata": {
    "ExecuteTime": {
     "end_time": "2021-11-17T17:07:57.469095Z",
     "start_time": "2021-11-17T17:07:57.466382Z"
    }
   },
   "outputs": [
    {
     "data": {
      "text/plain": [
       "(32, 256, 4)"
      ]
     },
     "execution_count": 117,
     "metadata": {},
     "output_type": "execute_result"
    }
   ],
   "source": [
    "codebooks.shape"
   ]
  },
  {
   "cell_type": "code",
   "execution_count": 132,
   "metadata": {
    "ExecuteTime": {
     "end_time": "2021-11-17T17:43:25.698855Z",
     "start_time": "2021-11-17T17:43:25.695948Z"
    }
   },
   "outputs": [
    {
     "data": {
      "text/plain": [
       "array([[ 5.5934744 , -3.1530006 ,  5.988966  , -8.190983  ],\n",
       "       [ 3.3398757 , -2.598072  , -4.629112  ,  1.2890896 ],\n",
       "       [ 2.0987072 ,  6.911557  , -9.568957  , -3.4636445 ],\n",
       "       ...,\n",
       "       [ 7.0042305 , -3.128198  ,  4.700182  , -7.6985955 ],\n",
       "       [ 2.3924043 , -4.9966908 , -4.1939397 ,  0.57079446],\n",
       "       [ 4.9000993 , -3.3311853 , -4.8454537 ,  1.0463784 ]],\n",
       "      dtype=float32)"
      ]
     },
     "execution_count": 132,
     "metadata": {},
     "output_type": "execute_result"
    }
   ],
   "source": [
    "codebooks[0][]"
   ]
  },
  {
   "cell_type": "markdown",
   "metadata": {},
   "source": [
    "We can avoid slices to use less memory and improve speed"
   ]
  },
  {
   "cell_type": "code",
   "execution_count": 150,
   "metadata": {
    "ExecuteTime": {
     "end_time": "2021-11-17T18:10:15.194782Z",
     "start_time": "2021-11-17T18:10:15.192079Z"
    }
   },
   "outputs": [
    {
     "data": {
      "text/plain": [
       "(256, 4)"
      ]
     },
     "execution_count": 150,
     "metadata": {},
     "output_type": "execute_result"
    }
   ],
   "source": [
    "codebooks[0].shape"
   ]
  },
  {
   "cell_type": "code",
   "execution_count": 154,
   "metadata": {
    "ExecuteTime": {
     "end_time": "2021-11-17T18:10:21.133305Z",
     "start_time": "2021-11-17T18:10:21.130861Z"
    },
    "scrolled": true
   },
   "outputs": [
    {
     "data": {
      "text/plain": [
       "((32, 256, 4), 32)"
      ]
     },
     "execution_count": 154,
     "metadata": {},
     "output_type": "execute_result"
    }
   ],
   "source": [
    "codebooks.shape, M"
   ]
  },
  {
   "cell_type": "code",
   "execution_count": 256,
   "metadata": {
    "ExecuteTime": {
     "end_time": "2021-11-17T18:33:43.816390Z",
     "start_time": "2021-11-17T18:33:43.775564Z"
    }
   },
   "outputs": [
    {
     "data": {
      "text/plain": [
       "(32, 256)"
      ]
     },
     "execution_count": 256,
     "metadata": {},
     "output_type": "execute_result"
    }
   ],
   "source": [
    "def precompute_adc3(query, \n",
    "                    d_subvector,\n",
    "                    n_clusters,\n",
    "                    codebooks):\n",
    "    \n",
    "    n_subvectors = int(D/d_subvector)\n",
    "    dtable = np.empty((int(D/d_subvector), n_clusters), dtype=np.float32)\n",
    "    query_subvec = np.empty(d_subvector, dtype=np.float32)\n",
    "    query_subcodeword = np.empty(d_subvector, dtype=np.float32)\n",
    "    \n",
    "    for m in range(n_subvectors):\n",
    "        \n",
    "        # load m'th subquery\n",
    "        i = 0\n",
    "        for k in range(m * d_subvector, (m + 1) * d_subvector):\n",
    "            query_subvec[i] = query[k]\n",
    "            i += 1\n",
    "            \n",
    "        for ind_prototype in range(n_clusters):\n",
    "            \n",
    "            # load prototype ind_prototype for the m'th subspace\n",
    "            for i in range(d_subvector):\n",
    "                query_subcodeword[i] = codebooks[m, ind_prototype, i]\n",
    "            \n",
    "            # load prototype ind_prototype for the m'th subspace\n",
    "            dist_subprototype_to_subquery = 0\n",
    "            for k in range(d_subvector):\n",
    "                coord_k = query_subcodeword[k] - query_subvec[k]\n",
    "                dist_subprototype_to_subquery += coord_k * coord_k\n",
    "            \n",
    "            dtable[m, ind_prototype] = dist_subprototype_to_subquery\n",
    "            \n",
    "    return dtable\n",
    "\n",
    "dtable_custom2 = precompute_adc3(query, d_subvector, n_clusters, codebooks)\n",
    "dtable_custom2.shape"
   ]
  },
  {
   "cell_type": "code",
   "execution_count": 183,
   "metadata": {
    "ExecuteTime": {
     "end_time": "2021-11-17T18:25:23.799452Z",
     "start_time": "2021-11-17T18:25:23.796419Z"
    }
   },
   "outputs": [
    {
     "data": {
      "text/plain": [
       "-1.3184126e-07"
      ]
     },
     "execution_count": 183,
     "metadata": {},
     "output_type": "execute_result"
    }
   ],
   "source": [
    "#np.testing.assert_array_almost_equal(dtable_custom, dtable_custom2)\n",
    "np.mean(dtable_custom - dtable_custom2)"
   ]
  },
  {
   "cell_type": "markdown",
   "metadata": {},
   "source": [
    "We can cythonize the previous function"
   ]
  },
  {
   "cell_type": "code",
   "execution_count": null,
   "metadata": {
    "ExecuteTime": {
     "start_time": "2021-11-17T18:56:48.761Z"
    },
    "scrolled": false
   },
   "outputs": [],
   "source": [
    "%%cython -a \n",
    "cimport numpy as cnp\n",
    "import numpy as np\n",
    "cimport cython\n",
    "from cython.cimports.libc.stdlib import malloc, free\n",
    "from cpython.mem cimport PyMem_Malloc, PyMem_Realloc, PyMem_Free\n",
    "\n",
    "             \n",
    "@cython.boundscheck(False)\n",
    "@cython.wraparound(False)\n",
    "cpdef float[:,:] precompute_adc_cy(float[:] query, \n",
    "                        long d_subvector,\n",
    "                        long n_clusters,\n",
    "                        float[::,:,:] codebooks):\n",
    "            \n",
    "    cdef int D = len(query)\n",
    "    cdef int M = int(D/d_subvector) \n",
    "    cdef int n_subvectors = int(D/d_subvector)\n",
    "    cdef int m,i,k,ind_prototype,j\n",
    "    \n",
    "    cdef float[::,:] dtable = np.empty((M, n_clusters), dtype=np.float32)\n",
    "    cdef float[::] query_subvec = np.empty(d_subvector, dtype=np.float32)\n",
    "    cdef float[::] query_subcodeword = np.empty(d_subvector, dtype=np.float32)\n",
    "    \n",
    "    #cdef double* query_subcodeword = <double*> PyMem_Malloc( d_subvector * sizeof(double))\n",
    "        \n",
    "    cdef float dist_subprototype_to_subquery, coord_j\n",
    "    \n",
    "    for m in range(n_subvectors):\n",
    "        \n",
    "        # load m'th subquery\n",
    "        i = 0\n",
    "        for k in range(m * d_subvector, (m + 1) * d_subvector):\n",
    "            query_subvec[i] = query[k]\n",
    "            i += 1\n",
    "            \n",
    "        for ind_prototype in range(n_clusters):\n",
    "            \n",
    "            # load prototype ind_prototype for the m'th subspace\n",
    "            for i in range(d_subvector):\n",
    "                query_subcodeword[i] = codebooks[m, ind_prototype, i]\n",
    "            \n",
    "            # load prototype ind_prototype for the m'th subspace\n",
    "            dist_subprototype_to_subquery = 0.\n",
    "            for j in range(d_subvector):\n",
    "                coord_j = query_subcodeword[j] - query_subvec[j]\n",
    "                dist_subprototype_to_subquery += coord_j * coord_j\n",
    "            \n",
    "            dtable[m, ind_prototype] = dist_subprototype_to_subquery\n",
    "    \n",
    "    free(query_subcodeword)\n",
    "    \n",
    "    return dtable\n"
   ]
  },
  {
   "cell_type": "code",
   "execution_count": 307,
   "metadata": {
    "ExecuteTime": {
     "end_time": "2021-11-17T18:48:53.313319Z",
     "start_time": "2021-11-17T18:48:49.426745Z"
    },
    "scrolled": false
   },
   "outputs": [
    {
     "name": "stdout",
     "output_type": "stream",
     "text": [
      "47.8 µs ± 191 ns per loop (mean ± std. dev. of 7 runs, 10000 loops each)\n"
     ]
    }
   ],
   "source": [
    "%timeit dtable_custom3 = precompute_adc_cy(query, d_subvector, n_clusters, codebooks)"
   ]
  },
  {
   "cell_type": "markdown",
   "metadata": {},
   "source": [
    "This is around a factor of 10x over the 'numpy vectorized' version"
   ]
  },
  {
   "cell_type": "code",
   "execution_count": 278,
   "metadata": {
    "ExecuteTime": {
     "end_time": "2021-11-17T18:39:24.839780Z",
     "start_time": "2021-11-17T18:39:21.023851Z"
    }
   },
   "outputs": [
    {
     "name": "stdout",
     "output_type": "stream",
     "text": [
      "470 µs ± 7.11 µs per loop (mean ± std. dev. of 7 runs, 1000 loops each)\n"
     ]
    }
   ],
   "source": [
    "%timeit pq.precompute_adc(Xtr[4,:])"
   ]
  },
  {
   "cell_type": "code",
   "execution_count": null,
   "metadata": {},
   "outputs": [],
   "source": []
  },
  {
   "cell_type": "code",
   "execution_count": null,
   "metadata": {},
   "outputs": [],
   "source": []
  },
  {
   "cell_type": "code",
   "execution_count": null,
   "metadata": {},
   "outputs": [],
   "source": []
  }
 ],
 "metadata": {
  "kernelspec": {
   "display_name": "Python 3 (ipykernel)",
   "language": "python",
   "name": "python3"
  },
  "language_info": {
   "codemirror_mode": {
    "name": "ipython",
    "version": 3
   },
   "file_extension": ".py",
   "mimetype": "text/x-python",
   "name": "python",
   "nbconvert_exporter": "python",
   "pygments_lexer": "ipython3",
   "version": "3.8.5"
  },
  "toc": {
   "base_numbering": 1,
   "nav_menu": {},
   "number_sections": true,
   "sideBar": true,
   "skip_h1_title": false,
   "title_cell": "Table of Contents",
   "title_sidebar": "Contents",
   "toc_cell": true,
   "toc_position": {},
   "toc_section_display": true,
   "toc_window_display": false
  },
  "varInspector": {
   "cols": {
    "lenName": 16,
    "lenType": 16,
    "lenVar": 40
   },
   "kernels_config": {
    "python": {
     "delete_cmd_postfix": "",
     "delete_cmd_prefix": "del ",
     "library": "var_list.py",
     "varRefreshCmd": "print(var_dic_list())"
    },
    "r": {
     "delete_cmd_postfix": ") ",
     "delete_cmd_prefix": "rm(",
     "library": "var_list.r",
     "varRefreshCmd": "cat(var_dic_list()) "
    }
   },
   "types_to_exclude": [
    "module",
    "function",
    "builtin_function_or_method",
    "instance",
    "_Feature"
   ],
   "window_display": false
  }
 },
 "nbformat": 4,
 "nbformat_minor": 5
}
