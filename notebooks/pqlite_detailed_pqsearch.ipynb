{
 "cells": [
  {
   "cell_type": "markdown",
   "metadata": {
    "toc": true
   },
   "source": [
    "<h1>Table of Contents<span class=\"tocSkip\"></span></h1>\n",
    "<div class=\"toc\"><ul class=\"toc-item\"><li><ul class=\"toc-item\"><li><span><a href=\"#PQLite-explained\" data-toc-modified-id=\"PQLite-explained-0.1\"><span class=\"toc-item-num\">0.1&nbsp;&nbsp;</span>PQLite explained</a></span></li><li><span><a href=\"#Understanding-pq.fit\" data-toc-modified-id=\"Understanding-pq.fit-0.2\"><span class=\"toc-item-num\">0.2&nbsp;&nbsp;</span>Understanding <code>pq.fit</code></a></span><ul class=\"toc-item\"><li><span><a href=\"#Encoding-data-in-the-PQ-space\" data-toc-modified-id=\"Encoding-data-in-the-PQ-space-0.2.1\"><span class=\"toc-item-num\">0.2.1&nbsp;&nbsp;</span>Encoding data in the PQ space</a></span></li></ul></li><li><span><a href=\"#Understanding-Storage\" data-toc-modified-id=\"Understanding-Storage-0.3\"><span class=\"toc-item-num\">0.3&nbsp;&nbsp;</span>Understanding Storage</a></span><ul class=\"toc-item\"><li><span><a href=\"#._vec_indexes\" data-toc-modified-id=\"._vec_indexes-0.3.1\"><span class=\"toc-item-num\">0.3.1&nbsp;&nbsp;</span>._vec_indexes</a></span></li><li><span><a href=\"#._doc_stores\" data-toc-modified-id=\"._doc_stores-0.3.2\"><span class=\"toc-item-num\">0.3.2&nbsp;&nbsp;</span>._doc_stores</a></span></li><li><span><a href=\"#._cell_tables\" data-toc-modified-id=\"._cell_tables-0.3.3\"><span class=\"toc-item-num\">0.3.3&nbsp;&nbsp;</span>._cell_tables</a></span></li></ul></li><li><span><a href=\"#Understanding-pq.index\" data-toc-modified-id=\"Understanding-pq.index-0.4\"><span class=\"toc-item-num\">0.4&nbsp;&nbsp;</span>Understanding <code>pq.index</code></a></span></li><li><span><a href=\"#Understanding-pq.search\" data-toc-modified-id=\"Understanding-pq.search-0.5\"><span class=\"toc-item-num\">0.5&nbsp;&nbsp;</span>Understanding <code>pq.search</code></a></span><ul class=\"toc-item\"><li><span><a href=\"#Searching-with-filtering\" data-toc-modified-id=\"Searching-with-filtering-0.5.1\"><span class=\"toc-item-num\">0.5.1&nbsp;&nbsp;</span>Searching with filtering</a></span></li></ul></li></ul></li><li><span><a href=\"#Advanced-Resources\" data-toc-modified-id=\"Advanced-Resources-1\"><span class=\"toc-item-num\">1&nbsp;&nbsp;</span>Advanced Resources</a></span><ul class=\"toc-item\"><li><span><a href=\"#Training-in-minibatches\" data-toc-modified-id=\"Training-in-minibatches-1.1\"><span class=\"toc-item-num\">1.1&nbsp;&nbsp;</span>Training in minibatches</a></span></li></ul></li></ul></div>"
   ]
  },
  {
   "cell_type": "markdown",
   "metadata": {
    "ExecuteTime": {
     "end_time": "2021-11-15T10:56:27.351656Z",
     "start_time": "2021-11-15T10:56:27.349773Z"
    }
   },
   "source": [
    "## PQLite explained"
   ]
  },
  {
   "cell_type": "code",
   "execution_count": 1,
   "metadata": {
    "ExecuteTime": {
     "end_time": "2021-12-29T07:15:29.812406Z",
     "start_time": "2021-12-29T07:15:28.441459Z"
    },
    "scrolled": false
   },
   "outputs": [],
   "source": [
    "import pyximport\n",
    "pyximport.install()\n",
    "\n",
    "import pqlite\n",
    "pqlite.__path__\n",
    "import time\n",
    "\n",
    "import jina\n",
    "from docarray.math.distance import cdist\n",
    "from docarray import DocumentArray, Document\n",
    "\n",
    "import sklearn\n",
    "from sklearn.datasets import make_blobs\n",
    "from sklearn.model_selection import train_test_split\n",
    "\n",
    "import random\n",
    "import numpy as np\n",
    "from pqlite import PQLite\n",
    "\n"
   ]
  },
  {
   "cell_type": "markdown",
   "metadata": {},
   "source": [
    "#### How does pqlite works\n",
    "\n",
    "Pqlite has a first coarse search step.\n",
    "\n",
    "When adding elements to PQLite elements are stored in cells.\n",
    "\n",
    "The number `n_datapoints / n_cells` will be roughly the number of elements in each cell."
   ]
  },
  {
   "cell_type": "code",
   "execution_count": 2,
   "metadata": {
    "ExecuteTime": {
     "end_time": "2021-12-29T07:15:29.828037Z",
     "start_time": "2021-12-29T07:15:29.825736Z"
    }
   },
   "outputs": [],
   "source": [
    "Nq = 1\n",
    "D = 128 \n",
    "top_k = 100\n",
    "n_cells = 10\n",
    "n_subvectors = 32"
   ]
  },
  {
   "cell_type": "code",
   "execution_count": 3,
   "metadata": {
    "ExecuteTime": {
     "end_time": "2021-12-29T07:15:29.963940Z",
     "start_time": "2021-12-29T07:15:29.839522Z"
    }
   },
   "outputs": [],
   "source": [
    "!rm -rf ./data"
   ]
  },
  {
   "cell_type": "markdown",
   "metadata": {},
   "source": [
    "## Understanding `pq.fit`\n",
    "\n",
    "Internally, calling `pq.fit(Xtr)` makes the `pq` class to learn a quantizer stored in `pq.pq_codec`.\n",
    "\n",
    "The `pq` does not add data unitl `pq.add()` is called.\n",
    "\n",
    "We can see that the cells in `pq` are empty"
   ]
  },
  {
   "cell_type": "markdown",
   "metadata": {
    "ExecuteTime": {
     "end_time": "2021-11-19T14:15:38.807942Z",
     "start_time": "2021-11-19T14:15:38.790512Z"
    }
   },
   "source": [
    "Let us see what we have after adding to PQLIte with 500 examples\n"
   ]
  },
  {
   "cell_type": "code",
   "execution_count": 4,
   "metadata": {
    "ExecuteTime": {
     "end_time": "2021-12-29T07:15:55.418667Z",
     "start_time": "2021-12-29T07:15:34.111709Z"
    }
   },
   "outputs": [
    {
     "name": "stderr",
     "output_type": "stream",
     "text": [
      "2021-12-29 08:15:34.127 | INFO     | pqlite.index:__init__:89 - Initialize VQ codec (K=10)\n",
      "2021-12-29 08:15:34.128 | INFO     | pqlite.index:__init__:99 - Initialize PQ codec (n_subvectors=32)\n",
      "2021-12-29 08:15:34.149 | INFO     | pqlite.index:train:142 - Start training VQ codec (K=10) with 1980 data...\n",
      "2021-12-29 08:15:34.331 | INFO     | pqlite.index:train:148 - Start training PQ codec (n_subvectors=32) with 1980 data...\n",
      "2021-12-29 08:15:55.409 | INFO     | pqlite.index:train:153 - The pqlite is successfully trained!\n",
      "2021-12-29 08:15:55.410 | INFO     | pqlite.index:dump_model:387 - Save the trained parameters to data/0a7dfc558abb6bc6cb48db43ccf64964\n"
     ]
    }
   ],
   "source": [
    "\n",
    "Nt = 2000\n",
    "\n",
    "np.random.seed(1234)\n",
    "Xtr, Xte = train_test_split(make_blobs(n_samples = Nt, n_features = D)[0].astype(np.float32), test_size=20)\n",
    "\n",
    "# the column schema: (name:str, dtype:type, create_index: bool)\n",
    "pq = PQLite(dim=D,\n",
    "            metric='euclidean',\n",
    "            n_cells=n_cells,\n",
    "            n_subvectors=n_subvectors, \n",
    "            columns=[('price',float), ('category', str)])\n",
    "\n",
    "pq.train(Xtr)"
   ]
  },
  {
   "cell_type": "markdown",
   "metadata": {},
   "source": [
    "Note that cells are empty because we have not added yet any information"
   ]
  },
  {
   "cell_type": "code",
   "execution_count": 5,
   "metadata": {
    "ExecuteTime": {
     "end_time": "2021-12-29T07:15:55.446641Z",
     "start_time": "2021-12-29T07:15:55.436184Z"
    },
    "scrolled": true
   },
   "outputs": [
    {
     "data": {
      "text/plain": [
       "[0, 0, 0, 0, 0, 0, 0, 0, 0, 0]"
      ]
     },
     "execution_count": 5,
     "metadata": {},
     "output_type": "execute_result"
    }
   ],
   "source": [
    "[c.size for c in pq.cell_tables] "
   ]
  },
  {
   "cell_type": "code",
   "execution_count": 6,
   "metadata": {
    "ExecuteTime": {
     "end_time": "2021-12-29T07:15:55.585381Z",
     "start_time": "2021-12-29T07:15:55.462812Z"
    }
   },
   "outputs": [
    {
     "name": "stdout",
     "output_type": "stream",
     "text": [
      " 16K\tdata/cell_1\r\n",
      " 16K\tdata/cell_6\r\n",
      " 16K\tdata/cell_8\r\n",
      " 16K\tdata/cell_9\r\n",
      " 16K\tdata/cell_7\r\n",
      " 16K\tdata/cell_0\r\n",
      "528K\tdata/0a7dfc558abb6bc6cb48db43ccf64964\r\n",
      " 16K\tdata/cell_5\r\n",
      " 16K\tdata/cell_2\r\n",
      " 16K\tdata/cell_3\r\n",
      " 16K\tdata/cell_4\r\n",
      "688K\tdata\r\n"
     ]
    }
   ],
   "source": [
    "!du -h data"
   ]
  },
  {
   "cell_type": "markdown",
   "metadata": {},
   "source": [
    "Internally `pq.train` will train the the product quantizers in `pq.pq_codec` using the `.fit` of `pq.pq_codec`."
   ]
  },
  {
   "cell_type": "code",
   "execution_count": 7,
   "metadata": {
    "ExecuteTime": {
     "end_time": "2021-12-29T07:16:17.020232Z",
     "start_time": "2021-12-29T07:15:55.604046Z"
    }
   },
   "outputs": [],
   "source": [
    "pq.pq_codec.fit(Xtr)"
   ]
  },
  {
   "cell_type": "markdown",
   "metadata": {},
   "source": [
    "Information about hyperparams: There are 3 important hyperparams.\n",
    "\n",
    "- `n_cells`: Number of cells in the coarse distance estimation step\n",
    "- `n_subvectors`:  Number of subvectors. \n",
    "- `n_probe`: Number of cells used to perform search.\n"
   ]
  },
  {
   "cell_type": "code",
   "execution_count": 8,
   "metadata": {
    "ExecuteTime": {
     "end_time": "2021-12-29T07:16:17.041588Z",
     "start_time": "2021-12-29T07:16:17.038128Z"
    },
    "scrolled": true
   },
   "outputs": [
    {
     "name": "stdout",
     "output_type": "stream",
     "text": [
      "pq.n_cells = 10\n",
      "pq.n_subvectors = 32\n",
      "pq.n_probe = 16\n"
     ]
    }
   ],
   "source": [
    "print(f'pq.n_cells = {pq.n_cells }')\n",
    "print(f'pq.n_subvectors = {pq.n_subvectors }')\n",
    "print(f'pq.n_probe = {pq.n_probe}')"
   ]
  },
  {
   "cell_type": "markdown",
   "metadata": {},
   "source": [
    "### Encoding data in the PQ space\n",
    "\n",
    "We can use the current `quantizer` stored in `pq.pq_codec` to encode data.\n",
    "\n",
    "The dimension of the encoded data will be equal to `n_subvectors`."
   ]
  },
  {
   "cell_type": "code",
   "execution_count": 9,
   "metadata": {
    "ExecuteTime": {
     "end_time": "2021-12-29T07:16:17.070231Z",
     "start_time": "2021-12-29T07:16:17.062612Z"
    }
   },
   "outputs": [
    {
     "data": {
      "text/plain": [
       "array([[134, 147, 144, 105, 160,  97,  54,  77, 139,  61, 205, 111, 193,\n",
       "        220, 160, 141,  24,  91,  12, 163,  41, 122, 215,   1, 212, 201,\n",
       "        233,  18, 246, 156, 190,  65]], dtype=uint8)"
      ]
     },
     "execution_count": 9,
     "metadata": {},
     "output_type": "execute_result"
    }
   ],
   "source": [
    "pq.encode(Xte[[0]])"
   ]
  },
  {
   "cell_type": "markdown",
   "metadata": {},
   "source": [
    "The quantizer stored in `pq.pq_codec` uses a codebook for each of the subspaces of the Product Quantized space. \n",
    "\n",
    "Since we have `n_subvectors = 32` this means we will have 32 different subspaces. Each sub-space will have been used to learn a quantizer with the corresponding columns from the training data.\n",
    "\n",
    "In this case since `pq.pq_codec.d_subvector` is `4` then each of the slices `Xtr[:,0:4],Xtr[:,4:8],Xtr[:,8:12],....` will have a corresponding codebook. Note that `d_subvector` was not set but is a consequence of having `n_subvectors=32` because `D=128` and `128/32=4`.  \n",
    "\n",
    "All codebooks are stored in `pq.pq_codec.codebooks`. Since each subvector is mapped into a single integer and we have 32 subvectors we will need 32 sub-codebooks to map those vectors. \n",
    "\n",
    "Each of the sub-codebooks will consist on `pq.pq_codec.n_clusters` **codevectors** of size 4. By default `pq.pq_codec.n_clusters` is set to `256`."
   ]
  },
  {
   "cell_type": "code",
   "execution_count": 10,
   "metadata": {
    "ExecuteTime": {
     "end_time": "2021-12-29T07:16:17.091326Z",
     "start_time": "2021-12-29T07:16:17.087805Z"
    },
    "scrolled": true
   },
   "outputs": [
    {
     "data": {
      "text/plain": [
       "(32, 256, 4)"
      ]
     },
     "execution_count": 10,
     "metadata": {},
     "output_type": "execute_result"
    }
   ],
   "source": [
    "pq.pq_codec.codebooks.shape"
   ]
  },
  {
   "cell_type": "code",
   "execution_count": 11,
   "metadata": {
    "ExecuteTime": {
     "end_time": "2021-12-29T07:16:17.113929Z",
     "start_time": "2021-12-29T07:16:17.108347Z"
    }
   },
   "outputs": [
    {
     "data": {
      "text/plain": [
       "256"
      ]
     },
     "execution_count": 11,
     "metadata": {},
     "output_type": "execute_result"
    }
   ],
   "source": [
    "pq.pq_codec.n_clusters"
   ]
  },
  {
   "cell_type": "markdown",
   "metadata": {},
   "source": [
    "Note that each codebook contains is a matrix of shape `(K, d_subvector)` where `K` is the number of prototypes for each subspace (that is `K` equal `pq.pq_codec.n_clusters`)."
   ]
  },
  {
   "cell_type": "code",
   "execution_count": 12,
   "metadata": {
    "ExecuteTime": {
     "end_time": "2021-12-29T07:16:17.138353Z",
     "start_time": "2021-12-29T07:16:17.132958Z"
    }
   },
   "outputs": [
    {
     "data": {
      "text/plain": [
       "(256, 4)"
      ]
     },
     "execution_count": 12,
     "metadata": {},
     "output_type": "execute_result"
    }
   ],
   "source": [
    "pq.pq_codec.codebooks[0].shape"
   ]
  },
  {
   "cell_type": "markdown",
   "metadata": {},
   "source": [
    "##### Understanding the encoding"
   ]
  },
  {
   "cell_type": "markdown",
   "metadata": {},
   "source": [
    "Once we have fitted a `pq.codec` we can encode the data.\n",
    "This process takes a real valued vector, splits it in slices of size `pq.d_subvector` and each of the slices is assigned to the closest prototype stored in the codebook of the corresponding slice.\n",
    "\n",
    "For example we can take an slice of a vector and look where it should be matched\n"
   ]
  },
  {
   "cell_type": "code",
   "execution_count": 13,
   "metadata": {
    "ExecuteTime": {
     "end_time": "2021-12-29T07:16:17.163497Z",
     "start_time": "2021-12-29T07:16:17.158714Z"
    }
   },
   "outputs": [
    {
     "data": {
      "text/plain": [
       "array([-6.4715757,  3.6630175, -1.0034125,  5.976884 ], dtype=float32)"
      ]
     },
     "execution_count": 13,
     "metadata": {},
     "output_type": "execute_result"
    }
   ],
   "source": [
    "slice_0 = Xte[0][0:4]\n",
    "slice_0"
   ]
  },
  {
   "cell_type": "code",
   "execution_count": 14,
   "metadata": {
    "ExecuteTime": {
     "end_time": "2021-12-29T07:16:17.186833Z",
     "start_time": "2021-12-29T07:16:17.182230Z"
    }
   },
   "outputs": [
    {
     "name": "stdout",
     "output_type": "stream",
     "text": [
      "(256,)\n",
      "134\n"
     ]
    }
   ],
   "source": [
    "dists_to_prototypes_slice_0 = np.sum((pq.pq_codec.codebooks[0] - slice_0)**2, axis=1)\n",
    "print(dists_to_prototypes_slice_0.shape)\n",
    "print(dists_to_prototypes_slice_0.argmin())"
   ]
  },
  {
   "cell_type": "markdown",
   "metadata": {
    "ExecuteTime": {
     "end_time": "2021-11-19T15:25:52.398867Z",
     "start_time": "2021-11-19T15:25:52.380987Z"
    }
   },
   "source": [
    "Repeating this process for each slice will encode our vector in the PQ space.\n",
    "\n",
    "This can be done using `pq.encode`"
   ]
  },
  {
   "cell_type": "code",
   "execution_count": 15,
   "metadata": {
    "ExecuteTime": {
     "end_time": "2021-12-29T07:16:17.219637Z",
     "start_time": "2021-12-29T07:16:17.213434Z"
    }
   },
   "outputs": [
    {
     "data": {
      "text/plain": [
       "array([[134, 147, 144, 105, 160,  97,  54,  77, 139,  61, 205, 111, 193,\n",
       "        220, 160, 141,  24,  91,  12, 163,  41, 122, 215,   1, 212, 201,\n",
       "        233,  18, 246, 156, 190,  65]], dtype=uint8)"
      ]
     },
     "execution_count": 15,
     "metadata": {},
     "output_type": "execute_result"
    }
   ],
   "source": [
    "pq.encode(Xte[[0]])"
   ]
  },
  {
   "cell_type": "markdown",
   "metadata": {},
   "source": [
    "This method will internally call the stored `pq_codec` and call the `.encode` method of the internal `pq_codec`"
   ]
  },
  {
   "cell_type": "code",
   "execution_count": 16,
   "metadata": {
    "ExecuteTime": {
     "end_time": "2021-12-29T07:16:17.243208Z",
     "start_time": "2021-12-29T07:16:17.237724Z"
    },
    "scrolled": false
   },
   "outputs": [
    {
     "data": {
      "text/plain": [
       "array([[134, 147, 144, 105, 160,  97,  54,  77, 139,  61, 205, 111, 193,\n",
       "        220, 160, 141,  24,  91,  12, 163,  41, 122, 215,   1, 212, 201,\n",
       "        233,  18, 246, 156, 190,  65]], dtype=uint8)"
      ]
     },
     "execution_count": 16,
     "metadata": {},
     "output_type": "execute_result"
    }
   ],
   "source": [
    "pq.pq_codec.encode(Xte[[0]])"
   ]
  },
  {
   "cell_type": "markdown",
   "metadata": {},
   "source": [
    "## Understanding Storage\n",
    "\n",
    "\n",
    "### ._vec_indexes\n",
    "\n",
    "\n",
    "`pq` stores the quantized data in `pq._vec_indexes`. This is a list of `n_cells` elements containing matrices with the quantized data added to `pq`. Note that if no data is added this matrices will contain only 0 values.\n"
   ]
  },
  {
   "cell_type": "code",
   "execution_count": 32,
   "metadata": {
    "ExecuteTime": {
     "end_time": "2021-12-29T07:36:05.496863Z",
     "start_time": "2021-12-29T07:36:05.493095Z"
    },
    "scrolled": true
   },
   "outputs": [
    {
     "data": {
      "text/plain": [
       "[<pqlite.core.index.pq_index.PQIndex at 0x7ff67931a640>,\n",
       " <pqlite.core.index.pq_index.PQIndex at 0x7ff6784955e0>,\n",
       " <pqlite.core.index.pq_index.PQIndex at 0x7ff678495730>,\n",
       " <pqlite.core.index.pq_index.PQIndex at 0x7ff678495850>,\n",
       " <pqlite.core.index.pq_index.PQIndex at 0x7ff670411a30>,\n",
       " <pqlite.core.index.pq_index.PQIndex at 0x7ff6784956d0>,\n",
       " <pqlite.core.index.pq_index.PQIndex at 0x7ff67931a160>,\n",
       " <pqlite.core.index.pq_index.PQIndex at 0x7ff67931a610>,\n",
       " <pqlite.core.index.pq_index.PQIndex at 0x7ff67931a9a0>,\n",
       " <pqlite.core.index.pq_index.PQIndex at 0x7ff67931a9d0>]"
      ]
     },
     "execution_count": 32,
     "metadata": {},
     "output_type": "execute_result"
    }
   ],
   "source": [
    "pq._vec_indexes"
   ]
  },
  {
   "cell_type": "code",
   "execution_count": 43,
   "metadata": {
    "ExecuteTime": {
     "end_time": "2021-12-29T07:46:00.796878Z",
     "start_time": "2021-12-29T07:46:00.792765Z"
    }
   },
   "outputs": [
    {
     "data": {
      "text/plain": [
       "array([[0, 0, 0, ..., 0, 0, 0],\n",
       "       [0, 0, 0, ..., 0, 0, 0],\n",
       "       [0, 0, 0, ..., 0, 0, 0],\n",
       "       ...,\n",
       "       [0, 0, 0, ..., 0, 0, 0],\n",
       "       [0, 0, 0, ..., 0, 0, 0],\n",
       "       [0, 0, 0, ..., 0, 0, 0]], dtype=uint8)"
      ]
     },
     "execution_count": 43,
     "metadata": {},
     "output_type": "execute_result"
    }
   ],
   "source": [
    "pq._vec_indexes[0]._data"
   ]
  },
  {
   "cell_type": "code",
   "execution_count": 44,
   "metadata": {
    "ExecuteTime": {
     "end_time": "2021-12-29T08:01:22.446810Z",
     "start_time": "2021-12-29T08:01:22.442509Z"
    }
   },
   "outputs": [
    {
     "data": {
      "text/plain": [
       "(10240, 32)"
      ]
     },
     "execution_count": 44,
     "metadata": {},
     "output_type": "execute_result"
    }
   ],
   "source": [
    "pq._vec_indexes[0]._data.shape"
   ]
  },
  {
   "cell_type": "code",
   "execution_count": 55,
   "metadata": {
    "ExecuteTime": {
     "end_time": "2021-12-29T08:09:49.636640Z",
     "start_time": "2021-12-29T08:09:49.632216Z"
    }
   },
   "outputs": [
    {
     "data": {
      "text/plain": [
       "{'_dense_dim': 128,\n",
       " 'initial_size': 10240,\n",
       " 'expand_step_size': 10240,\n",
       " 'expand_mode': <ExpandMode.STEP: 1>,\n",
       " 'dim': 32,\n",
       " 'dtype': numpy.uint8,\n",
       " 'metric': <Metric.EUCLIDEAN: 1>,\n",
       " '_size': 0,\n",
       " '_capacity': 10240,\n",
       " '_data': array([[0, 0, 0, ..., 0, 0, 0],\n",
       "        [0, 0, 0, ..., 0, 0, 0],\n",
       "        [0, 0, 0, ..., 0, 0, 0],\n",
       "        ...,\n",
       "        [0, 0, 0, ..., 0, 0, 0],\n",
       "        [0, 0, 0, ..., 0, 0, 0],\n",
       "        [0, 0, 0, ..., 0, 0, 0]], dtype=uint8),\n",
       " '_pq_codec': <pqlite.core.codec.pq.PQCodec at 0x7ff6902fc0a0>}"
      ]
     },
     "execution_count": 55,
     "metadata": {},
     "output_type": "execute_result"
    }
   ],
   "source": [
    "pq._vec_indexes[0].__dict__"
   ]
  },
  {
   "cell_type": "markdown",
   "metadata": {},
   "source": [
    "### ._doc_stores"
   ]
  },
  {
   "cell_type": "code",
   "execution_count": 40,
   "metadata": {
    "ExecuteTime": {
     "end_time": "2021-12-29T07:45:33.334935Z",
     "start_time": "2021-12-29T07:45:33.328992Z"
    }
   },
   "outputs": [
    {
     "data": {
      "text/plain": [
       "[<pqlite.storage.kv.DocStorage at 0x7ff67931a430>,\n",
       " <pqlite.storage.kv.DocStorage at 0x7ff67931a5e0>,\n",
       " <pqlite.storage.kv.DocStorage at 0x7ff67931ad00>,\n",
       " <pqlite.storage.kv.DocStorage at 0x7ff67931a700>,\n",
       " <pqlite.storage.kv.DocStorage at 0x7ff67931ae50>,\n",
       " <pqlite.storage.kv.DocStorage at 0x7ff67931abb0>,\n",
       " <pqlite.storage.kv.DocStorage at 0x7ff67931af70>,\n",
       " <pqlite.storage.kv.DocStorage at 0x7ff67931ab50>,\n",
       " <pqlite.storage.kv.DocStorage at 0x7ff67931ad60>,\n",
       " <pqlite.storage.kv.DocStorage at 0x7ff67931aee0>]"
      ]
     },
     "execution_count": 40,
     "metadata": {},
     "output_type": "execute_result"
    }
   ],
   "source": [
    "pq._doc_stores"
   ]
  },
  {
   "cell_type": "markdown",
   "metadata": {},
   "source": [
    "### ._cell_tables\n",
    "\n",
    "`CellTable` objects provide an interface with sqlite that allows retriving data with filters"
   ]
  },
  {
   "cell_type": "code",
   "execution_count": 57,
   "metadata": {
    "ExecuteTime": {
     "end_time": "2021-12-29T08:38:08.581167Z",
     "start_time": "2021-12-29T08:38:08.577223Z"
    }
   },
   "outputs": [
    {
     "data": {
      "text/plain": [
       "[<pqlite.storage.table.CellTable at 0x7ff67931a460>,\n",
       " <pqlite.storage.table.CellTable at 0x7ff679338040>,\n",
       " <pqlite.storage.table.CellTable at 0x7ff6793380a0>,\n",
       " <pqlite.storage.table.CellTable at 0x7ff679338100>,\n",
       " <pqlite.storage.table.CellTable at 0x7ff679338190>,\n",
       " <pqlite.storage.table.CellTable at 0x7ff679338220>,\n",
       " <pqlite.storage.table.CellTable at 0x7ff679338280>,\n",
       " <pqlite.storage.table.CellTable at 0x7ff6793382e0>,\n",
       " <pqlite.storage.table.CellTable at 0x7ff679338340>,\n",
       " <pqlite.storage.table.CellTable at 0x7ff6793383a0>]"
      ]
     },
     "execution_count": 57,
     "metadata": {},
     "output_type": "execute_result"
    }
   ],
   "source": [
    "pq._cell_tables"
   ]
  },
  {
   "cell_type": "code",
   "execution_count": 60,
   "metadata": {
    "ExecuteTime": {
     "end_time": "2021-12-29T08:38:19.906380Z",
     "start_time": "2021-12-29T08:38:19.902253Z"
    }
   },
   "outputs": [
    {
     "data": {
      "text/plain": [
       "{'_conn_name': ':memory:',\n",
       " '_name': 'table_0',\n",
       " '_conn': <sqlite3.Connection at 0x7ff6792c3990>,\n",
       " '_columns': ['price FLOAT', 'category TEXT'],\n",
       " '_indexed_keys': {'category', 'price'}}"
      ]
     },
     "execution_count": 60,
     "metadata": {},
     "output_type": "execute_result"
    }
   ],
   "source": [
    "pq._cell_tables[0].__dict__"
   ]
  },
  {
   "cell_type": "code",
   "execution_count": null,
   "metadata": {
    "ExecuteTime": {
     "end_time": "2021-12-29T08:38:22.277587Z",
     "start_time": "2021-12-29T08:38:22.273255Z"
    }
   },
   "outputs": [],
   "source": []
  },
  {
   "cell_type": "code",
   "execution_count": null,
   "metadata": {},
   "outputs": [],
   "source": []
  },
  {
   "cell_type": "markdown",
   "metadata": {},
   "source": [
    "## Understanding `pq.index`"
   ]
  },
  {
   "cell_type": "markdown",
   "metadata": {},
   "source": [
    "We have seen that `pq` has not stored a single example"
   ]
  },
  {
   "cell_type": "code",
   "execution_count": 17,
   "metadata": {
    "ExecuteTime": {
     "end_time": "2021-12-27T12:41:52.572982Z",
     "start_time": "2021-12-27T12:41:52.568456Z"
    }
   },
   "outputs": [
    {
     "data": {
      "text/plain": [
       "[0, 0, 0, 0, 0, 0, 0, 0, 0, 0]"
      ]
     },
     "execution_count": 17,
     "metadata": {},
     "output_type": "execute_result"
    }
   ],
   "source": [
    "[c.size for c in pq.cell_tables] "
   ]
  },
  {
   "cell_type": "markdown",
   "metadata": {},
   "source": [
    "To add examples we have to do "
   ]
  },
  {
   "cell_type": "code",
   "execution_count": 18,
   "metadata": {
    "ExecuteTime": {
     "end_time": "2021-12-27T12:41:52.594972Z",
     "start_time": "2021-12-27T12:41:52.592505Z"
    }
   },
   "outputs": [],
   "source": [
    "from jina import DocumentArray, Document"
   ]
  },
  {
   "cell_type": "code",
   "execution_count": 19,
   "metadata": {
    "ExecuteTime": {
     "end_time": "2021-12-27T12:41:52.617022Z",
     "start_time": "2021-12-27T12:41:52.613082Z"
    }
   },
   "outputs": [
    {
     "data": {
      "text/plain": [
       "(10, 'audiobook')"
      ]
     },
     "execution_count": 19,
     "metadata": {},
     "output_type": "execute_result"
    }
   ],
   "source": [
    "np.random.choice((100,25,10)),np.random.choice(['comics','movies','audiobook'])"
   ]
  },
  {
   "cell_type": "code",
   "execution_count": 20,
   "metadata": {
    "ExecuteTime": {
     "end_time": "2021-12-27T12:41:52.842500Z",
     "start_time": "2021-12-27T12:41:52.640218Z"
    }
   },
   "outputs": [],
   "source": [
    "CATEGORIES = ['comics','movies','audiobook']\n",
    "da = DocumentArray([Document(id=f'{i}', \n",
    "                             embedding=Xtr[i], \n",
    "                             tags={\n",
    "                                   'price': np.random.choice((5.,10.,25.,100.)),\n",
    "                                   'category':np.random.choice(CATEGORIES),\n",
    "                                 }) for i in range(len(Xtr))])\n",
    "    "
   ]
  },
  {
   "cell_type": "code",
   "execution_count": 21,
   "metadata": {
    "ExecuteTime": {
     "end_time": "2021-12-27T12:41:52.865714Z",
     "start_time": "2021-12-27T12:41:52.861881Z"
    }
   },
   "outputs": [
    {
     "data": {
      "text/plain": [
       "1980"
      ]
     },
     "execution_count": 21,
     "metadata": {},
     "output_type": "execute_result"
    }
   ],
   "source": [
    "len(da)"
   ]
  },
  {
   "cell_type": "code",
   "execution_count": 22,
   "metadata": {
    "ExecuteTime": {
     "end_time": "2021-12-27T12:41:52.890812Z",
     "start_time": "2021-12-27T12:41:52.887719Z"
    }
   },
   "outputs": [
    {
     "data": {
      "text/plain": [
       "5.0"
      ]
     },
     "execution_count": 22,
     "metadata": {},
     "output_type": "execute_result"
    }
   ],
   "source": [
    "da[0].tags['price']"
   ]
  },
  {
   "cell_type": "markdown",
   "metadata": {
    "ExecuteTime": {
     "end_time": "2021-11-29T15:06:40.739319Z",
     "start_time": "2021-11-29T15:06:40.714911Z"
    }
   },
   "source": [
    "Before indexing we can see in `./data` that there are some folders that containg the basic data structures used to store the `indexed data`."
   ]
  },
  {
   "cell_type": "code",
   "execution_count": 23,
   "metadata": {
    "ExecuteTime": {
     "end_time": "2021-12-27T12:41:53.028908Z",
     "start_time": "2021-12-27T12:41:52.908167Z"
    },
    "scrolled": true
   },
   "outputs": [
    {
     "name": "stdout",
     "output_type": "stream",
     "text": [
      " 16K\tdata/cell_1\r\n",
      " 16K\tdata/cell_6\r\n",
      " 16K\tdata/cell_8\r\n",
      " 16K\tdata/cell_9\r\n",
      " 16K\tdata/cell_7\r\n",
      " 16K\tdata/cell_0\r\n",
      "528K\tdata/0a7dfc558abb6bc6cb48db43ccf64964\r\n",
      " 16K\tdata/cell_5\r\n",
      " 16K\tdata/cell_2\r\n",
      " 16K\tdata/cell_3\r\n",
      " 16K\tdata/cell_4\r\n",
      "688K\tdata\r\n"
     ]
    }
   ],
   "source": [
    "!du -h data"
   ]
  },
  {
   "cell_type": "code",
   "execution_count": 24,
   "metadata": {
    "ExecuteTime": {
     "end_time": "2021-12-27T12:41:53.275211Z",
     "start_time": "2021-12-27T12:41:53.047492Z"
    }
   },
   "outputs": [
    {
     "name": "stderr",
     "output_type": "stream",
     "text": [
      "2021-12-27 13:41:53.273 | DEBUG    | pqlite.container:insert:225 - => 1980 new docs added\n"
     ]
    }
   ],
   "source": [
    "pq.index(da)"
   ]
  },
  {
   "cell_type": "code",
   "execution_count": 25,
   "metadata": {
    "ExecuteTime": {
     "end_time": "2021-12-27T12:41:53.299731Z",
     "start_time": "2021-12-27T12:41:53.294727Z"
    }
   },
   "outputs": [
    {
     "data": {
      "text/plain": [
       "[99, 203, 231, 202, 255, 186, 210, 175, 221, 198]"
      ]
     },
     "execution_count": 25,
     "metadata": {},
     "output_type": "execute_result"
    }
   ],
   "source": [
    "[c.size for c in pq.cell_tables] "
   ]
  },
  {
   "cell_type": "markdown",
   "metadata": {},
   "source": [
    "After indexing we can see that each cell  has a sensible amount of information"
   ]
  },
  {
   "cell_type": "code",
   "execution_count": 26,
   "metadata": {
    "ExecuteTime": {
     "end_time": "2021-12-27T12:41:53.442161Z",
     "start_time": "2021-12-27T12:41:53.323615Z"
    }
   },
   "outputs": [
    {
     "name": "stdout",
     "output_type": "stream",
     "text": [
      "200K\tdata/cell_1\r\n",
      "212K\tdata/cell_6\r\n",
      "224K\tdata/cell_8\r\n",
      "204K\tdata/cell_9\r\n",
      "188K\tdata/cell_7\r\n",
      "112K\tdata/cell_0\r\n",
      "528K\tdata/0a7dfc558abb6bc6cb48db43ccf64964\r\n",
      "196K\tdata/cell_5\r\n",
      "232K\tdata/cell_2\r\n",
      "212K\tdata/cell_3\r\n",
      "248K\tdata/cell_4\r\n",
      "2.5M\tdata\r\n"
     ]
    }
   ],
   "source": [
    "!du -h data"
   ]
  },
  {
   "cell_type": "markdown",
   "metadata": {},
   "source": [
    "If we sum the elements across cells we will se that this number matches the length of the indexed DocumentArray"
   ]
  },
  {
   "cell_type": "code",
   "execution_count": 28,
   "metadata": {
    "ExecuteTime": {
     "end_time": "2021-12-27T12:43:33.758352Z",
     "start_time": "2021-12-27T12:43:33.754840Z"
    }
   },
   "outputs": [
    {
     "data": {
      "text/plain": [
       "True"
      ]
     },
     "execution_count": 28,
     "metadata": {},
     "output_type": "execute_result"
    }
   ],
   "source": [
    "np.sum([c.size for c in pq.cell_tables] ) == len(da)"
   ]
  },
  {
   "cell_type": "markdown",
   "metadata": {},
   "source": [
    "The cell information is "
   ]
  },
  {
   "cell_type": "code",
   "execution_count": 29,
   "metadata": {
    "ExecuteTime": {
     "end_time": "2021-12-27T12:43:34.222387Z",
     "start_time": "2021-12-27T12:43:34.219521Z"
    }
   },
   "outputs": [
    {
     "name": "stdout",
     "output_type": "stream",
     "text": [
      "The number of cells is n_cells=10\n",
      "\n",
      "Cells can be accessed in pq.cell_tables\n",
      "\twe have len(pq.cell_tables)=10 cells\n",
      "\n",
      "We have added len(Xtr)=1980 elements to pq\n"
     ]
    }
   ],
   "source": [
    "print(f'The number of cells is n_cells={pq.n_cells}')\n",
    "\n",
    "print('\\nCells can be accessed in pq.cell_tables')\n",
    "print(f'\\twe have len(pq.cell_tables)={len(pq.cell_tables)} cells')\n",
    "print(f'\\nWe have added len(Xtr)={len(Xtr)} elements to pq')"
   ]
  },
  {
   "cell_type": "markdown",
   "metadata": {},
   "source": [
    "Note that `pq.cell_tables` is a list of  `CellTable` objects"
   ]
  },
  {
   "cell_type": "code",
   "execution_count": 30,
   "metadata": {
    "ExecuteTime": {
     "end_time": "2021-12-27T12:43:35.497790Z",
     "start_time": "2021-12-27T12:43:35.494844Z"
    }
   },
   "outputs": [
    {
     "data": {
      "text/plain": [
       "<pqlite.storage.table.CellTable at 0x7fb468aa3880>"
      ]
     },
     "execution_count": 30,
     "metadata": {},
     "output_type": "execute_result"
    }
   ],
   "source": [
    "pq.cell_tables[0]"
   ]
  },
  {
   "cell_type": "markdown",
   "metadata": {},
   "source": [
    "\n",
    "Each CellTable allows you to `insert`, `query` and `delete` vectors\n",
    "\n",
    "We can inspect how many elements are in a cell using `.count()`"
   ]
  },
  {
   "cell_type": "code",
   "execution_count": 31,
   "metadata": {
    "ExecuteTime": {
     "end_time": "2021-12-27T12:43:46.943635Z",
     "start_time": "2021-12-27T12:43:46.940859Z"
    },
    "scrolled": true
   },
   "outputs": [
    {
     "data": {
      "text/plain": [
       "99"
      ]
     },
     "execution_count": 31,
     "metadata": {},
     "output_type": "execute_result"
    }
   ],
   "source": [
    "pq.cell_tables[0].count()"
   ]
  },
  {
   "cell_type": "markdown",
   "metadata": {
    "ExecuteTime": {
     "end_time": "2021-11-19T14:45:53.586529Z",
     "start_time": "2021-11-19T14:45:53.566589Z"
    }
   },
   "source": [
    "Not all `cell_tables` will contain the same number of elements because not all of them are assigned to the same prototype. Nevertheless the sum of the elements across cells equalts the number of added elements"
   ]
  },
  {
   "cell_type": "code",
   "execution_count": 33,
   "metadata": {
    "ExecuteTime": {
     "end_time": "2021-12-27T12:43:51.054587Z",
     "start_time": "2021-12-27T12:43:51.051420Z"
    },
    "scrolled": true
   },
   "outputs": [
    {
     "name": "stdout",
     "output_type": "stream",
     "text": [
      "elements_per_cell = [99, 203, 231, 202, 255, 186, 210, 175, 221, 198]\n",
      "total number of elements added = 1980\n",
      "np.sum(elements_per_cell) == len(Xtr) is  True\n"
     ]
    }
   ],
   "source": [
    "elements_per_cell = [pq_cell_table.count() for pq_cell_table in pq.cell_tables]\n",
    "print('elements_per_cell =', elements_per_cell)\n",
    "print('total number of elements added =', np.sum(elements_per_cell))\n",
    "print('np.sum(elements_per_cell) == len(Xtr) is ',np.sum(elements_per_cell) == len(Xtr))"
   ]
  },
  {
   "cell_type": "code",
   "execution_count": 42,
   "metadata": {
    "ExecuteTime": {
     "end_time": "2021-12-27T14:22:07.432063Z",
     "start_time": "2021-12-27T14:22:07.429149Z"
    }
   },
   "outputs": [
    {
     "data": {
      "text/plain": [
       "<pqlite.storage.kv.DocStorage at 0x7fb468aa3550>"
      ]
     },
     "execution_count": 42,
     "metadata": {},
     "output_type": "execute_result"
    }
   ],
   "source": [
    "pq._doc_stores[0]"
   ]
  },
  {
   "cell_type": "code",
   "execution_count": 44,
   "metadata": {
    "ExecuteTime": {
     "end_time": "2021-12-27T15:42:56.186071Z",
     "start_time": "2021-12-27T15:42:56.182249Z"
    }
   },
   "outputs": [
    {
     "data": {
      "text/plain": [
       "1980"
      ]
     },
     "execution_count": 44,
     "metadata": {},
     "output_type": "execute_result"
    }
   ],
   "source": [
    "pq.total_docs"
   ]
  },
  {
   "cell_type": "markdown",
   "metadata": {},
   "source": [
    "## Understanding `pq.search`\n",
    "\n",
    "\n",
    "Internally `pq.search` first computes the distance between each query and the prototypes that define the cells. Then the cells whose prototypes are closest to a query are selected as search space. The best  `pq.n_probe` cells are selected (this is a hyperparameter of the algorithm).\n",
    "\n",
    "Since `pq.n_probe` in this case is bigger than `pq.n_cells` all the cells will be searched."
   ]
  },
  {
   "cell_type": "code",
   "execution_count": 32,
   "metadata": {
    "ExecuteTime": {
     "end_time": "2021-12-23T12:46:51.480009Z",
     "start_time": "2021-12-23T12:46:51.476636Z"
    }
   },
   "outputs": [
    {
     "data": {
      "text/plain": [
       "(16, 10)"
      ]
     },
     "execution_count": 32,
     "metadata": {},
     "output_type": "execute_result"
    }
   ],
   "source": [
    "pq.n_probe, pq.n_cells"
   ]
  },
  {
   "cell_type": "markdown",
   "metadata": {},
   "source": [
    "Note that  `pq.search` can be called with a batch of vectors. Once called it will end up calling `pq.search_cells` with the full batch of queries but with an array of arrays containing at each position a list of the ids of the cells that best batch the query. So if 5 queries are passed into the `pq.search` it will pass to `self.search_cells` an array of size `(len(queries), max(pq.n_probe, pq.n_cells)`.\n",
    "\n",
    "The `.search_cells` method iterates over the queries and comptues the distance between each query and all retrieved elements in the activated cells.\n",
    "\n",
    "For each query in the batch  the Asymetric Distance Computation is performed using `pq.pq_codec.precompute_adc` which returns a table of shape `(pq.n_subvectors, pq.pq_codec.n_clusters)`.  In our case a matrix of shape `(32, 256)`.\n"
   ]
  },
  {
   "cell_type": "code",
   "execution_count": 33,
   "metadata": {
    "ExecuteTime": {
     "end_time": "2021-12-23T12:46:51.485431Z",
     "start_time": "2021-12-23T12:46:51.482140Z"
    }
   },
   "outputs": [],
   "source": [
    "query = Xtr[[10]]"
   ]
  },
  {
   "cell_type": "code",
   "execution_count": 34,
   "metadata": {
    "ExecuteTime": {
     "end_time": "2021-12-23T12:46:51.492667Z",
     "start_time": "2021-12-23T12:46:51.487341Z"
    }
   },
   "outputs": [
    {
     "data": {
      "text/plain": [
       "(32, 256)"
      ]
     },
     "execution_count": 34,
     "metadata": {},
     "output_type": "execute_result"
    }
   ],
   "source": [
    "dtable = pq.pq_codec.precompute_adc(query[0])\n",
    "dtable.dtable.shape"
   ]
  },
  {
   "cell_type": "markdown",
   "metadata": {},
   "source": [
    "We can do this faster with a cython function as follows"
   ]
  },
  {
   "cell_type": "code",
   "execution_count": 35,
   "metadata": {
    "ExecuteTime": {
     "end_time": "2021-12-23T12:46:51.498669Z",
     "start_time": "2021-12-23T12:46:51.495332Z"
    }
   },
   "outputs": [],
   "source": [
    "import pqlite.pq_bind\n",
    "from pqlite.pq_bind import precompute_adc_table"
   ]
  },
  {
   "cell_type": "code",
   "execution_count": 36,
   "metadata": {
    "ExecuteTime": {
     "end_time": "2021-12-23T12:46:51.503406Z",
     "start_time": "2021-12-23T12:46:51.500727Z"
    }
   },
   "outputs": [],
   "source": [
    "d_subvector = int(query.shape[1]/pq.pq_codec.n_subvectors)"
   ]
  },
  {
   "cell_type": "code",
   "execution_count": 37,
   "metadata": {
    "ExecuteTime": {
     "end_time": "2021-12-23T12:46:51.509651Z",
     "start_time": "2021-12-23T12:46:51.505873Z"
    }
   },
   "outputs": [],
   "source": [
    "dt = precompute_adc_table(query[0], \n",
    "                          d_subvector,\n",
    "                          pq.pq_codec.n_clusters,\n",
    "                          pq.pq_codec.codebooks)"
   ]
  },
  {
   "cell_type": "code",
   "execution_count": 38,
   "metadata": {
    "ExecuteTime": {
     "end_time": "2021-12-23T12:46:51.516798Z",
     "start_time": "2021-12-23T12:46:51.512511Z"
    }
   },
   "outputs": [
    {
     "data": {
      "text/plain": [
       "0.0"
      ]
     },
     "execution_count": 38,
     "metadata": {},
     "output_type": "execute_result"
    }
   ],
   "source": [
    "np.mean(np.asarray(dt) - dtable.dtable)"
   ]
  },
  {
   "cell_type": "markdown",
   "metadata": {},
   "source": [
    "This table contains the distance between each possible subvector in que query and each possible subvector from any subcodevector.\n",
    "\n",
    "Therefore we go from `search` -> `search_cells` -> `search_cells` -> `precomputed_k = pq_codec.precompute_adc(query_k)` -> `ivfpq_topk`\n",
    "\n",
    "Therefore for `query_k` we compute the ADC table. Then this table is used to compute the distance between the query and all the database. \n",
    "\n",
    "In this case, since there is filtering, the computations are done only on a subset of the database. Distances are computed between the query and the exapmles that come from the selected cells and verify the conditions specified by the provided filter.\n",
    "\n",
    "```\n",
    "self.ivfpq_topk(precomputed, cells=cell_idx,conditions=conditions,k=k )\n",
    "```"
   ]
  },
  {
   "cell_type": "code",
   "execution_count": 39,
   "metadata": {
    "ExecuteTime": {
     "end_time": "2021-12-23T12:46:51.521621Z",
     "start_time": "2021-12-23T12:46:51.518309Z"
    }
   },
   "outputs": [
    {
     "data": {
      "text/plain": [
       "(32, 256, 4)"
      ]
     },
     "execution_count": 39,
     "metadata": {},
     "output_type": "execute_result"
    }
   ],
   "source": [
    "pq.pq_codec.codebooks.shape"
   ]
  },
  {
   "cell_type": "code",
   "execution_count": 40,
   "metadata": {
    "ExecuteTime": {
     "end_time": "2021-12-23T12:46:51.528369Z",
     "start_time": "2021-12-23T12:46:51.523801Z"
    }
   },
   "outputs": [
    {
     "data": {
      "text/plain": [
       "(32, 256)"
      ]
     },
     "execution_count": 40,
     "metadata": {},
     "output_type": "execute_result"
    }
   ],
   "source": [
    "precomputed = pq.pq_codec.precompute_adc(query[0])\n",
    "precomputed.dtable.shape"
   ]
  },
  {
   "cell_type": "markdown",
   "metadata": {},
   "source": [
    "Given a bunch of datapoint candidates from the database (from which we already have the pqcode) we want to find distances between the query and the candidates. This is done with `precomputed.adist(codes)` which returns the distance between each code in codes and the pqcode of the query.\n",
    "\n",
    "Let us recall that each subvector in the quantized space represented 4 values in the original space and those 4 real-valued values are represented with a single intenger from 0 to n_clusters."
   ]
  },
  {
   "cell_type": "code",
   "execution_count": 41,
   "metadata": {
    "ExecuteTime": {
     "end_time": "2021-12-23T12:46:51.534612Z",
     "start_time": "2021-12-23T12:46:51.530722Z"
    }
   },
   "outputs": [
    {
     "data": {
      "text/plain": [
       "(4, 256)"
      ]
     },
     "execution_count": 41,
     "metadata": {},
     "output_type": "execute_result"
    }
   ],
   "source": [
    "pq.pq_codec.d_subvector, pq.pq_codec.n_clusters"
   ]
  },
  {
   "cell_type": "markdown",
   "metadata": {},
   "source": [
    "We can look at the indexed (quantized) data in `cell_k` using  `pq._vec_indexes[cell_k].data`"
   ]
  },
  {
   "cell_type": "code",
   "execution_count": 42,
   "metadata": {
    "ExecuteTime": {
     "end_time": "2021-12-23T12:46:51.542093Z",
     "start_time": "2021-12-23T12:46:51.537053Z"
    },
    "scrolled": true
   },
   "outputs": [
    {
     "data": {
      "text/plain": [
       "array([[ 83,  91,  31, ...,  41,   5,  37],\n",
       "       [ 45, 109,  36, ...,  45, 178,  40],\n",
       "       [120,   1,  20, ..., 150, 147,   8],\n",
       "       ...,\n",
       "       [  0,   0,   0, ...,   0,   0,   0],\n",
       "       [  0,   0,   0, ...,   0,   0,   0],\n",
       "       [  0,   0,   0, ...,   0,   0,   0]], dtype=uint8)"
      ]
     },
     "execution_count": 42,
     "metadata": {},
     "output_type": "execute_result"
    }
   ],
   "source": [
    "pq._vec_indexes[0]._data"
   ]
  },
  {
   "cell_type": "markdown",
   "metadata": {},
   "source": [
    "This is an array of pq-codes of vectors that have been indexed.\n",
    "\n",
    "Note that several rows are 0 because memory is preemtively saved to avoid too much memory resizes."
   ]
  },
  {
   "cell_type": "code",
   "execution_count": 43,
   "metadata": {
    "ExecuteTime": {
     "end_time": "2021-12-23T12:46:51.550170Z",
     "start_time": "2021-12-23T12:46:51.544294Z"
    }
   },
   "outputs": [
    {
     "data": {
      "text/plain": [
       "(10240, 32)"
      ]
     },
     "execution_count": 43,
     "metadata": {},
     "output_type": "execute_result"
    }
   ],
   "source": [
    "pq._vec_indexes[0]._data.shape"
   ]
  },
  {
   "cell_type": "markdown",
   "metadata": {},
   "source": [
    "We can see that the number of items in a cell starts at a position that is full of 0 values"
   ]
  },
  {
   "cell_type": "code",
   "execution_count": 44,
   "metadata": {
    "ExecuteTime": {
     "end_time": "2021-12-23T12:46:51.560095Z",
     "start_time": "2021-12-23T12:46:51.552807Z"
    }
   },
   "outputs": [
    {
     "name": "stdout",
     "output_type": "stream",
     "text": [
      "99\n",
      "203\n",
      "[99, 203, 231, 202, 255, 186, 210, 175, 221, 198]\n"
     ]
    }
   ],
   "source": [
    "print(np.where(pq._vec_indexes[0]._data.sum(axis=1)==0)[0][0])\n",
    "print(np.where(pq._vec_indexes[1]._data.sum(axis=1)==0)[0][0])\n",
    "print([c.size for c in pq.cell_tables])"
   ]
  },
  {
   "cell_type": "markdown",
   "metadata": {
    "ExecuteTime": {
     "end_time": "2021-11-29T15:36:50.353172Z",
     "start_time": "2021-11-29T15:36:50.333726Z"
    }
   },
   "source": [
    "Note that this is not necessarily true since a vector in the original feature space could be mapped to a pq-code that is represented  as zeros [0,0,...0]."
   ]
  },
  {
   "cell_type": "code",
   "execution_count": 45,
   "metadata": {
    "ExecuteTime": {
     "end_time": "2021-12-23T12:46:51.565431Z",
     "start_time": "2021-12-23T12:46:51.562701Z"
    }
   },
   "outputs": [],
   "source": [
    "precomputed = pq.pq_codec.precompute_adc(query[0])"
   ]
  },
  {
   "cell_type": "code",
   "execution_count": 46,
   "metadata": {
    "ExecuteTime": {
     "end_time": "2021-12-23T12:46:51.580393Z",
     "start_time": "2021-12-23T12:46:51.567042Z"
    }
   },
   "outputs": [],
   "source": [
    "from jina import DocumentArray\n",
    "da = DocumentArray([Document(embedding=query[0]),\n",
    "                    Document(embedding=Xtr[0])])"
   ]
  },
  {
   "cell_type": "markdown",
   "metadata": {},
   "source": [
    "We can search matches for documents in a documentarray using `.search`.\n",
    "\n",
    "Note that this does not return anything"
   ]
  },
  {
   "cell_type": "code",
   "execution_count": 47,
   "metadata": {
    "ExecuteTime": {
     "end_time": "2021-12-23T12:46:51.623016Z",
     "start_time": "2021-12-23T12:46:51.582026Z"
    }
   },
   "outputs": [],
   "source": [
    "pq.search(da,limit=5)"
   ]
  },
  {
   "cell_type": "markdown",
   "metadata": {},
   "source": [
    "But the documentarray is updated with matches in each of the docs of the documentarray"
   ]
  },
  {
   "cell_type": "code",
   "execution_count": 48,
   "metadata": {
    "ExecuteTime": {
     "end_time": "2021-12-23T12:46:51.628070Z",
     "start_time": "2021-12-23T12:46:51.624363Z"
    }
   },
   "outputs": [
    {
     "data": {
      "text/plain": [
       "['10', '499', '710', '1862', '1979']"
      ]
     },
     "execution_count": 48,
     "metadata": {},
     "output_type": "execute_result"
    }
   ],
   "source": [
    "[m.id for m in da[0].matches]"
   ]
  },
  {
   "cell_type": "markdown",
   "metadata": {
    "ExecuteTime": {
     "end_time": "2021-11-29T16:53:11.770106Z",
     "start_time": "2021-11-29T16:53:11.751255Z"
    }
   },
   "source": [
    "We can anually look at the euclidean distances with"
   ]
  },
  {
   "cell_type": "code",
   "execution_count": 49,
   "metadata": {
    "ExecuteTime": {
     "end_time": "2021-12-23T12:46:51.633641Z",
     "start_time": "2021-12-23T12:46:51.629618Z"
    }
   },
   "outputs": [
    {
     "data": {
      "text/plain": [
       "[13.598586082458496,\n",
       " 162.94834899902344,\n",
       " 178.1434783935547,\n",
       " 178.3148651123047,\n",
       " 180.0396270751953]"
      ]
     },
     "execution_count": 49,
     "metadata": {},
     "output_type": "execute_result"
    }
   ],
   "source": [
    "[x.scores['euclidean'].value for x in da[0].matches]"
   ]
  },
  {
   "cell_type": "code",
   "execution_count": 50,
   "metadata": {
    "ExecuteTime": {
     "end_time": "2021-12-23T12:46:51.638830Z",
     "start_time": "2021-12-23T12:46:51.634891Z"
    }
   },
   "outputs": [
    {
     "data": {
      "text/plain": [
       "[12.756232261657715,\n",
       " 178.5064239501953,\n",
       " 182.26963806152344,\n",
       " 183.38494873046875,\n",
       " 186.2959442138672]"
      ]
     },
     "execution_count": 50,
     "metadata": {},
     "output_type": "execute_result"
    }
   ],
   "source": [
    "[x.scores['euclidean'].value for x in da[1].matches]"
   ]
  },
  {
   "cell_type": "markdown",
   "metadata": {},
   "source": [
    "The search method will look into the different cells and search on each cell retrieve elements and compute distances. In each cell the method `.search` will be called.\n",
    "\n",
    "Note that the distance 5.45 appears in one of the cells if we exhaustively search across cells for the closest matches."
   ]
  },
  {
   "cell_type": "code",
   "execution_count": 51,
   "metadata": {
    "ExecuteTime": {
     "end_time": "2021-12-23T12:46:51.662079Z",
     "start_time": "2021-12-23T12:46:51.640425Z"
    }
   },
   "outputs": [
    {
     "data": {
      "text/plain": [
       "[(array([5336.07617188]), array([99])),\n",
       " (array([5336.07617188]), array([203])),\n",
       " (array([186.16217041]), array([64])),\n",
       " (array([5336.07617188]), array([202])),\n",
       " (array([5336.07617188]), array([255])),\n",
       " (array([5336.07617188]), array([186])),\n",
       " (array([178.14347839]), array([75])),\n",
       " (array([5336.07617188]), array([175])),\n",
       " (array([13.59858608]), array([0])),\n",
       " (array([5336.07617188]), array([198]))]"
      ]
     },
     "execution_count": 51,
     "metadata": {},
     "output_type": "execute_result"
    }
   ],
   "source": [
    "[pq._vec_indexes[i].search(query[0], 1) for i in range(len(pq._vec_indexes))]"
   ]
  },
  {
   "cell_type": "code",
   "execution_count": 52,
   "metadata": {
    "ExecuteTime": {
     "end_time": "2021-12-23T12:46:51.688210Z",
     "start_time": "2021-12-23T12:46:51.664665Z"
    }
   },
   "outputs": [
    {
     "data": {
      "text/plain": [
       "[(array([193.5615387]), array([32])),\n",
       " (array([5816.02050781]), array([203])),\n",
       " (array([5816.02050781]), array([231])),\n",
       " (array([5816.02050781]), array([202])),\n",
       " (array([5816.02050781]), array([255])),\n",
       " (array([182.26963806]), array([94])),\n",
       " (array([5816.02050781]), array([210])),\n",
       " (array([12.75623226]), array([0])),\n",
       " (array([5816.02050781]), array([221])),\n",
       " (array([186.29594421]), array([119]))]"
      ]
     },
     "execution_count": 52,
     "metadata": {},
     "output_type": "execute_result"
    }
   ],
   "source": [
    "[pq._vec_indexes[i].search(Xtr[0], 1) for i in range(len(pq._vec_indexes))]"
   ]
  },
  {
   "cell_type": "markdown",
   "metadata": {},
   "source": [
    "An important observation is that the closest elements in many cells are really far from the best elments in a few cells. This suggests there is not need to look into all cells at query time (for this examples)."
   ]
  },
  {
   "cell_type": "markdown",
   "metadata": {},
   "source": [
    "### Searching with filtering\n",
    "\n",
    "We can filter according to a set of tags of the documents"
   ]
  },
  {
   "cell_type": "code",
   "execution_count": 53,
   "metadata": {
    "ExecuteTime": {
     "end_time": "2021-12-23T12:46:51.812847Z",
     "start_time": "2021-12-23T12:46:51.690528Z"
    }
   },
   "outputs": [],
   "source": [
    "!rm -rf ./data"
   ]
  },
  {
   "cell_type": "code",
   "execution_count": 54,
   "metadata": {
    "ExecuteTime": {
     "end_time": "2021-12-23T12:47:40.010548Z",
     "start_time": "2021-12-23T12:46:51.814650Z"
    }
   },
   "outputs": [
    {
     "name": "stderr",
     "output_type": "stream",
     "text": [
      "2021-12-23 13:46:51.832 | INFO     | pqlite.index:__init__:96 - Initialize VQ codec (K=10)\n",
      "2021-12-23 13:46:51.833 | INFO     | pqlite.index:__init__:108 - Initialize PQ codec (n_subvectors=32)\n",
      "2021-12-23 13:46:51.856 | INFO     | pqlite.index:train:153 - Start training VQ codec (K=10) with 1980 data...\n",
      "2021-12-23 13:46:52.163 | INFO     | pqlite.index:train:160 - Start training PQ codec (n_subvectors=32) with 1980 data...\n",
      "2021-12-23 13:47:39.608 | INFO     | pqlite.index:train:166 - The pqlite is successfully trained!\n",
      "2021-12-23 13:47:39.609 | INFO     | pqlite.index:dump_model:404 - Save the trained parameters to data/0a7dfc558abb6bc6cb48db43ccf64964\n",
      "2021-12-23 13:47:40.008 | DEBUG    | pqlite.container:insert:225 - => 1980 new docs added\n"
     ]
    }
   ],
   "source": [
    "\n",
    "np.random.seed(1234)\n",
    "Xtr, Xte = train_test_split(make_blobs(n_samples = Nt, n_features = D)[0].astype(np.float32), test_size=20)\n",
    "\n",
    "# the column schema: (name:str, dtype:type, create_index: bool)\n",
    "pq = PQLite(dim=D,\n",
    "            metric='euclidean',\n",
    "            n_cells=n_cells,\n",
    "            n_subvectors=n_subvectors, \n",
    "            columns=[('price',float), ('category', str)],\n",
    "            include_metadata=True)\n",
    "\n",
    "pq.train(Xtr)\n",
    "\n",
    "CATEGORIES = ['comics','movies','audiobook']\n",
    "da = DocumentArray([Document(id=f'{i}', \n",
    "                             embedding=Xtr[i], \n",
    "                             tags={\n",
    "                                   'price': np.random.choice((5.,10.,25.,100.)),\n",
    "                                   'category':np.random.choice(CATEGORIES),\n",
    "                                 }) for i in range(len(Xtr))])\n",
    "    \n",
    "pq.index(da)"
   ]
  },
  {
   "cell_type": "code",
   "execution_count": 55,
   "metadata": {
    "ExecuteTime": {
     "end_time": "2021-12-23T12:47:40.021031Z",
     "start_time": "2021-12-23T12:47:40.012026Z"
    }
   },
   "outputs": [
    {
     "name": "stdout",
     "output_type": "stream",
     "text": [
      "[12.333423614501953, 175.82518005371094, 179.87442016601562, 187.24586486816406, 188.56765747070312]\n",
      "[25.0, 25.0, 25.0, 5.0, 100.0]\n"
     ]
    }
   ],
   "source": [
    "query_da = DocumentArray([Document(embedding=Xtr[0], tags={'price':0.23})])\n",
    "\n",
    "pq.search(query_da, filter={'price': {'$lt': 120}}, limit=5)\n",
    "\n",
    "dists = [x.scores['euclidean'].value for x in query_da[0].matches]\n",
    "prices = [x.tags['price'] for x in query_da[0].matches]\n",
    "\n",
    "print(dists)\n",
    "print(prices)"
   ]
  },
  {
   "cell_type": "markdown",
   "metadata": {},
   "source": [
    "Note that if we put a more restrictive filter the top_k distances will be worse (in general) but all values will verify the filter."
   ]
  },
  {
   "cell_type": "code",
   "execution_count": 56,
   "metadata": {
    "ExecuteTime": {
     "end_time": "2021-12-23T12:47:40.030981Z",
     "start_time": "2021-12-23T12:47:40.022385Z"
    }
   },
   "outputs": [
    {
     "name": "stdout",
     "output_type": "stream",
     "text": [
      "[12.33, 175.83, 179.87, 187.25, 189.3]\n",
      "[25.0, 25.0, 25.0, 5.0, 5.0]\n"
     ]
    }
   ],
   "source": [
    "\n",
    "pq.search(query_da, filter={'price': {'$lt': 50}}, limit=5)\n",
    "\n",
    "dists = [round(x.scores['euclidean'].value,2) for x in query_da[0].matches]\n",
    "prices = [x.tags['price'] for x in query_da[0].matches]\n",
    "\n",
    "print(dists)\n",
    "print(prices)"
   ]
  },
  {
   "cell_type": "markdown",
   "metadata": {
    "ExecuteTime": {
     "end_time": "2021-11-30T11:30:57.604154Z",
     "start_time": "2021-11-30T11:30:57.585983Z"
    }
   },
   "source": [
    "If no filter is applied..."
   ]
  },
  {
   "cell_type": "code",
   "execution_count": 57,
   "metadata": {
    "ExecuteTime": {
     "end_time": "2021-12-23T12:47:40.054875Z",
     "start_time": "2021-12-23T12:47:40.032867Z"
    }
   },
   "outputs": [
    {
     "name": "stdout",
     "output_type": "stream",
     "text": [
      "[12.33, 175.83, 179.87, 187.25, 188.57, 189.3, 191.03, 191.43, 192.73, 193.25]\n",
      "[25.0, 25.0, 25.0, 5.0, 100.0, 5.0, 25.0, 25.0, 5.0, 5.0]\n"
     ]
    }
   ],
   "source": [
    "pq.search(query_da,  limit=10)\n",
    "\n",
    "dists = [round(x.scores['euclidean'].value,2) for x in query_da[0].matches]\n",
    "prices = [x.tags['price'] for x in query_da[0].matches]\n",
    "\n",
    "print(dists)\n",
    "print(prices)"
   ]
  },
  {
   "cell_type": "code",
   "execution_count": 58,
   "metadata": {
    "ExecuteTime": {
     "end_time": "2021-12-23T12:47:52.330015Z",
     "start_time": "2021-12-23T12:47:40.056658Z"
    }
   },
   "outputs": [
    {
     "name": "stdout",
     "output_type": "stream",
     "text": [
      "15 ms ± 789 µs per loop (mean ± std. dev. of 7 runs, 100 loops each)\n"
     ]
    }
   ],
   "source": [
    "%timeit pq.search(query_da)"
   ]
  },
  {
   "cell_type": "markdown",
   "metadata": {},
   "source": [
    "# Advanced Resources\n",
    "\n",
    "## Training in minibatches\n",
    "\n",
    "Sometimes, data is too large to fit in memory, in such cases pqlite allows to train in minibatches using `.partial_fit`"
   ]
  },
  {
   "cell_type": "code",
   "execution_count": 59,
   "metadata": {
    "ExecuteTime": {
     "end_time": "2021-12-23T12:47:52.336867Z",
     "start_time": "2021-12-23T12:47:52.332336Z"
    }
   },
   "outputs": [
    {
     "data": {
      "text/plain": [
       "(32, 256, 4)"
      ]
     },
     "execution_count": 59,
     "metadata": {},
     "output_type": "execute_result"
    }
   ],
   "source": [
    "codebook_full_batch = pq.pq_codec.codebooks\n",
    "codebook_full_batch.shape"
   ]
  },
  {
   "cell_type": "code",
   "execution_count": 60,
   "metadata": {
    "ExecuteTime": {
     "end_time": "2021-12-23T12:47:52.355302Z",
     "start_time": "2021-12-23T12:47:52.339757Z"
    }
   },
   "outputs": [],
   "source": [
    "\n",
    "# the column schema: (name:str, dtype:type, create_index: bool)\n",
    "pq_minibatch = PQLite(dim=D,\n",
    "                      metric='euclidean',\n",
    "                      n_cells=n_cells,\n",
    "                      n_subvectors=n_subvectors, \n",
    "                      columns=[('price',float), ('category', str)],\n",
    "                      data_path='data_minibatch',\n",
    "                      logger_flag=False)\n"
   ]
  },
  {
   "cell_type": "markdown",
   "metadata": {},
   "source": [
    "Now we would create a custom minibatch generator (probably reading from disk) and use `.partial_train`"
   ]
  },
  {
   "cell_type": "code",
   "execution_count": 61,
   "metadata": {
    "ExecuteTime": {
     "end_time": "2021-12-23T12:47:52.360472Z",
     "start_time": "2021-12-23T12:47:52.356720Z"
    }
   },
   "outputs": [],
   "source": [
    "\n",
    "def minibatch_generator(Xtr,batch_size):\n",
    "    num = 0\n",
    "    pos_begin_batch = 0\n",
    "    n_examples = len(Xtr)\n",
    "    \n",
    "    while True:\n",
    "        Xtr_batch = Xtr[pos_begin_batch:pos_begin_batch+batch_size]\n",
    "        yield Xtr_batch\n",
    "        \n",
    "        num += len(Xtr_batch)\n",
    "        pos_begin_batch += batch_size \n",
    "\n",
    "        if num + batch_size >= n_examples:\n",
    "            break"
   ]
  },
  {
   "cell_type": "code",
   "execution_count": 62,
   "metadata": {
    "ExecuteTime": {
     "end_time": "2021-12-23T12:47:52.365699Z",
     "start_time": "2021-12-23T12:47:52.362641Z"
    }
   },
   "outputs": [],
   "source": [
    "n_epochs = 100\n",
    "n_examples = Xtr.shape[0]\n",
    "n_batch = int(n_examples/3)\n",
    "n_batches = int(n_examples/n_batch)\n",
    "\n",
    "minibatch_generator_ = minibatch_generator(Xtr, n_batch)"
   ]
  },
  {
   "cell_type": "code",
   "execution_count": 63,
   "metadata": {
    "ExecuteTime": {
     "end_time": "2021-12-23T12:48:46.730643Z",
     "start_time": "2021-12-23T12:47:52.367705Z"
    }
   },
   "outputs": [],
   "source": [
    "for i in range(n_epochs):\n",
    "    minibatch_generator_ = minibatch_generator(Xtr, n_batch)\n",
    "    \n",
    "    for batch in minibatch_generator_:\n",
    "        pq_minibatch.partial_train(batch)\n",
    "    "
   ]
  },
  {
   "cell_type": "code",
   "execution_count": 64,
   "metadata": {
    "ExecuteTime": {
     "end_time": "2021-12-23T12:48:46.734611Z",
     "start_time": "2021-12-23T12:48:46.732217Z"
    }
   },
   "outputs": [],
   "source": [
    "pq_minibatch.vq_codec.build_codebook()\n",
    "vq_codebook_minibatch = pq_minibatch.vq_codec.codebook"
   ]
  },
  {
   "cell_type": "code",
   "execution_count": 65,
   "metadata": {
    "ExecuteTime": {
     "end_time": "2021-12-23T12:48:46.742407Z",
     "start_time": "2021-12-23T12:48:46.736504Z"
    }
   },
   "outputs": [
    {
     "data": {
      "text/plain": [
       "(10, 128)"
      ]
     },
     "execution_count": 65,
     "metadata": {},
     "output_type": "execute_result"
    }
   ],
   "source": [
    "vq_codebook_minibatch.shape"
   ]
  },
  {
   "cell_type": "markdown",
   "metadata": {},
   "source": [
    "Once training is finished codebooks need to be set with `.build_codebook()`"
   ]
  },
  {
   "cell_type": "code",
   "execution_count": 66,
   "metadata": {
    "ExecuteTime": {
     "end_time": "2021-12-23T12:48:46.748468Z",
     "start_time": "2021-12-23T12:48:46.743873Z"
    }
   },
   "outputs": [
    {
     "name": "stdout",
     "output_type": "stream",
     "text": [
      "vq_codebook_full_batch.shape = (10, 128)\n",
      "vq_codebook_minibatch.shape = (10, 128)\n",
      "pq_codebook_full_batch.shape = (32, 256, 4)\n",
      "pq_codebook_minibatch.shape = (32, 256, 4)\n"
     ]
    }
   ],
   "source": [
    "pq_minibatch.build_codebook()\n",
    "\n",
    "vq_codebook_full_batch = pq.vq_codec.codebook\n",
    "vq_codebook_minibatch = pq_minibatch.vq_codec.codebook\n",
    "print(f'vq_codebook_full_batch.shape = {vq_codebook_full_batch.shape}')\n",
    "print(f'vq_codebook_minibatch.shape = {vq_codebook_minibatch.shape}')\n",
    "\n",
    "pq_codebook_full_batch = pq.pq_codec.codebooks\n",
    "pq_codebook_minibatch = pq_minibatch.pq_codec.codebooks\n",
    "print(f'pq_codebook_full_batch.shape = {pq_codebook_full_batch.shape}')\n",
    "print(f'pq_codebook_minibatch.shape = {pq_codebook_minibatch.shape}')"
   ]
  },
  {
   "cell_type": "markdown",
   "metadata": {
    "ExecuteTime": {
     "end_time": "2021-12-23T11:48:09.905628Z",
     "start_time": "2021-12-23T11:48:09.881797Z"
    }
   },
   "source": [
    "The average SSE error between a full batch version and the minibatch version is "
   ]
  },
  {
   "cell_type": "code",
   "execution_count": 67,
   "metadata": {
    "ExecuteTime": {
     "end_time": "2021-12-23T12:48:47.034137Z",
     "start_time": "2021-12-23T12:48:46.750247Z"
    }
   },
   "outputs": [
    {
     "data": {
      "text/plain": [
       "0.22011521464645512"
      ]
     },
     "execution_count": 67,
     "metadata": {},
     "output_type": "execute_result"
    }
   ],
   "source": [
    "kmeans = sklearn.cluster.KMeans()\n",
    "kmeans.fit(Xtr)\n",
    "\n",
    "abs(kmeans.score(Xtr)/len(Xtr) - pq_minibatch.vq_codec.kmeans.score(Xtr)/len(Xtr))"
   ]
  }
 ],
 "metadata": {
  "kernelspec": {
   "display_name": "Python 3 (ipykernel)",
   "language": "python",
   "name": "python3"
  },
  "language_info": {
   "codemirror_mode": {
    "name": "ipython",
    "version": 3
   },
   "file_extension": ".py",
   "mimetype": "text/x-python",
   "name": "python",
   "nbconvert_exporter": "python",
   "pygments_lexer": "ipython3",
   "version": "3.8.5"
  },
  "toc": {
   "base_numbering": 1,
   "nav_menu": {},
   "number_sections": true,
   "sideBar": true,
   "skip_h1_title": false,
   "title_cell": "Table of Contents",
   "title_sidebar": "Contents",
   "toc_cell": true,
   "toc_position": {
    "height": "calc(100% - 180px)",
    "left": "10px",
    "top": "150px",
    "width": "165px"
   },
   "toc_section_display": true,
   "toc_window_display": true
  },
  "varInspector": {
   "cols": {
    "lenName": 16,
    "lenType": 16,
    "lenVar": 40
   },
   "kernels_config": {
    "python": {
     "delete_cmd_postfix": "",
     "delete_cmd_prefix": "del ",
     "library": "var_list.py",
     "varRefreshCmd": "print(var_dic_list())"
    },
    "r": {
     "delete_cmd_postfix": ") ",
     "delete_cmd_prefix": "rm(",
     "library": "var_list.r",
     "varRefreshCmd": "cat(var_dic_list()) "
    }
   },
   "types_to_exclude": [
    "module",
    "function",
    "builtin_function_or_method",
    "instance",
    "_Feature"
   ],
   "window_display": false
  }
 },
 "nbformat": 4,
 "nbformat_minor": 4
}
