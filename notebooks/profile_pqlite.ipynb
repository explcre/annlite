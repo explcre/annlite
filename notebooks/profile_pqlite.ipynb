{
 "cells": [
  {
   "cell_type": "markdown",
   "metadata": {
    "toc": true
   },
   "source": [
    "<h1>Table of Contents<span class=\"tocSkip\"></span></h1>\n",
    "<div class=\"toc\"><ul class=\"toc-item\"><li><span><a href=\"#Profile-pqlite\" data-toc-modified-id=\"Profile-pqlite-1\"><span class=\"toc-item-num\">1&nbsp;&nbsp;</span>Profile pqlite</a></span><ul class=\"toc-item\"><li><span><a href=\"#Time\" data-toc-modified-id=\"Time-1.1\"><span class=\"toc-item-num\">1.1&nbsp;&nbsp;</span>Time</a></span></li><li><span><a href=\"#Quality\" data-toc-modified-id=\"Quality-1.2\"><span class=\"toc-item-num\">1.2&nbsp;&nbsp;</span>Quality</a></span><ul class=\"toc-item\"><li><span><a href=\"#Plotting-pq-neighbors-vs-true-neighbors\" data-toc-modified-id=\"Plotting-pq-neighbors-vs-true-neighbors-1.2.1\"><span class=\"toc-item-num\">1.2.1&nbsp;&nbsp;</span>Plotting <code>pq neighbors</code> vs <code>true neighbors</code></a></span></li></ul></li><li><span><a href=\"#precision,-recall,-query_time-vs-n_subvectors-&amp;--n_cells\" data-toc-modified-id=\"precision,-recall,-query_time-vs-n_subvectors-&amp;--n_cells-1.3\"><span class=\"toc-item-num\">1.3&nbsp;&nbsp;</span><code>precision, recall, query_time</code> vs <code>n_subvectors</code> &amp;  <code>n_cells</code></a></span></li></ul></li></ul></div>"
   ]
  },
  {
   "cell_type": "markdown",
   "metadata": {
    "ExecuteTime": {
     "end_time": "2021-11-15T10:56:27.351656Z",
     "start_time": "2021-11-15T10:56:27.349773Z"
    }
   },
   "source": [
    "## Profile pqlite"
   ]
  },
  {
   "cell_type": "code",
   "execution_count": 1,
   "metadata": {
    "ExecuteTime": {
     "end_time": "2021-11-15T12:14:57.275710Z",
     "start_time": "2021-11-15T12:14:57.259912Z"
    }
   },
   "outputs": [],
   "source": [
    "%load_ext autoreload\n",
    "%autoreload 2\n"
   ]
  },
  {
   "cell_type": "code",
   "execution_count": 2,
   "metadata": {
    "ExecuteTime": {
     "end_time": "2021-11-15T12:14:58.563032Z",
     "start_time": "2021-11-15T12:14:58.161032Z"
    },
    "scrolled": true
   },
   "outputs": [
    {
     "name": "stdout",
     "output_type": "stream",
     "text": [
      "['/Users/davidbuchaca1/Documents/jina_stuff/pqlite/pqlite']\n"
     ]
    }
   ],
   "source": [
    "import pqlite\n",
    "print(pqlite.__path__)\n",
    "import time\n",
    "\n",
    "import jina\n",
    "from jina.math.distance import cdist\n",
    "\n",
    "import sklearn\n",
    "from sklearn.datasets import make_blobs\n",
    "from sklearn.model_selection import train_test_split"
   ]
  },
  {
   "cell_type": "code",
   "execution_count": 3,
   "metadata": {
    "ExecuteTime": {
     "end_time": "2021-11-15T12:16:32.997170Z",
     "start_time": "2021-11-15T12:14:59.767159Z"
    },
    "scrolled": true
   },
   "outputs": [
    {
     "name": "stderr",
     "output_type": "stream",
     "text": [
      "2021-11-15 13:14:59.867 | INFO     | pqlite.index:fit:95 - => start training VQ codec with 12480 data...\n",
      "2021-11-15 13:15:00.325 | INFO     | pqlite.index:fit:98 - => start training PQ codec with 12480 data...\n",
      "2021-11-15 13:16:31.817 | INFO     | pqlite.index:fit:101 - => pqlite is successfully trained!\n",
      "2021-11-15 13:16:32.992 | DEBUG    | pqlite.storage.cell:_expand:148 - => total storage capacity is expanded by 0 for 18 cells\n",
      "2021-11-15 13:16:32.994 | DEBUG    | pqlite.storage.cell:insert:90 - => 12480 new items added\n"
     ]
    }
   ],
   "source": [
    "import random\n",
    "import numpy as np\n",
    "from pqlite import PQLite\n",
    "\n",
    "Nt = 12_500 \n",
    "Nq = 1\n",
    "D = 128\n",
    "top_k = 100\n",
    "n_cells = 18\n",
    "n_subvectors = 128\n",
    "\n",
    "np.random.seed(123)\n",
    "Xtr, Xte = train_test_split(make_blobs(n_samples = Nt, n_features = D)[0].astype(np.float32), test_size=20)\n",
    "\n",
    "pq = PQLite(d_vector=D, \n",
    "            n_cells=n_cells,\n",
    "            n_subvectors=n_subvectors, \n",
    "            columns=[('x', float, True)])\n",
    "\n",
    "pq.fit(Xtr)\n",
    "pq.add(Xtr, ids=list(range(len(Xtr))))"
   ]
  },
  {
   "cell_type": "code",
   "execution_count": 4,
   "metadata": {
    "ExecuteTime": {
     "end_time": "2021-11-15T12:16:38.781121Z",
     "start_time": "2021-11-15T12:16:38.735810Z"
    }
   },
   "outputs": [],
   "source": [
    "Nq = 1\n",
    "query = Xte[[10]] \n",
    "\n",
    "# without filtering\n",
    "pq_dists, ids = pq.search(query, k=5)"
   ]
  },
  {
   "cell_type": "code",
   "execution_count": 19,
   "metadata": {
    "ExecuteTime": {
     "end_time": "2021-11-15T12:18:36.966843Z",
     "start_time": "2021-11-15T12:18:36.918290Z"
    }
   },
   "outputs": [
    {
     "data": {
      "text/plain": [
       "(array([[165.26141, 165.34329, 167.90637, 169.76   , 169.87177]],\n",
       "       dtype=float32),\n",
       " array([[b'1192', b'3580', b'7', b'4826', b'12076']], dtype='|S36'))"
      ]
     },
     "execution_count": 19,
     "metadata": {},
     "output_type": "execute_result"
    }
   ],
   "source": [
    "pq.search(query, k=5)"
   ]
  },
  {
   "cell_type": "code",
   "execution_count": null,
   "metadata": {},
   "outputs": [],
   "source": []
  },
  {
   "cell_type": "code",
   "execution_count": null,
   "metadata": {},
   "outputs": [],
   "source": []
  },
  {
   "cell_type": "markdown",
   "metadata": {},
   "source": [
    "The the search in pqlite is done in two steps:\n",
    "    \n",
    "- 1) Find the best cell computing `cdist(query,  pq.vq_codec.codebook, metric=pq.metric)`\n",
    "\n",
    "- 2) Performing NNsearch on the elements of the best cell.`"
   ]
  },
  {
   "cell_type": "code",
   "execution_count": null,
   "metadata": {
    "ExecuteTime": {
     "end_time": "2021-11-15T12:01:14.283231Z",
     "start_time": "2021-11-15T12:00:58.840229Z"
    }
   },
   "outputs": [],
   "source": [
    "from jina.math.distance import cdist\n",
    "\n",
    "%timeit cdist(query,  pq.vq_codec.codebook, metric=pq.metric)"
   ]
  },
  {
   "cell_type": "code",
   "execution_count": null,
   "metadata": {
    "ExecuteTime": {
     "end_time": "2021-11-15T12:04:40.923425Z",
     "start_time": "2021-11-15T12:04:40.862035Z"
    }
   },
   "outputs": [],
   "source": [
    "pq.search(query,  k=top_k)"
   ]
  },
  {
   "cell_type": "code",
   "execution_count": null,
   "metadata": {},
   "outputs": [],
   "source": []
  },
  {
   "cell_type": "code",
   "execution_count": null,
   "metadata": {},
   "outputs": [],
   "source": []
  },
  {
   "cell_type": "code",
   "execution_count": null,
   "metadata": {},
   "outputs": [],
   "source": []
  },
  {
   "cell_type": "code",
   "execution_count": null,
   "metadata": {},
   "outputs": [],
   "source": []
  },
  {
   "cell_type": "code",
   "execution_count": null,
   "metadata": {},
   "outputs": [],
   "source": []
  },
  {
   "cell_type": "markdown",
   "metadata": {},
   "source": [
    "### Time"
   ]
  },
  {
   "cell_type": "code",
   "execution_count": null,
   "metadata": {
    "ExecuteTime": {
     "end_time": "2021-11-15T11:07:15.312007Z",
     "start_time": "2021-11-15T11:07:07.662130Z"
    }
   },
   "outputs": [],
   "source": [
    "%timeit  pq.search(query,  k=top_k)"
   ]
  },
  {
   "cell_type": "code",
   "execution_count": null,
   "metadata": {
    "ExecuteTime": {
     "end_time": "2021-11-15T11:07:17.068357Z",
     "start_time": "2021-11-15T11:07:15.349864Z"
    }
   },
   "outputs": [],
   "source": [
    "%timeit res = cdist(query, Xtr, metric='euclidean')"
   ]
  },
  {
   "cell_type": "markdown",
   "metadata": {},
   "source": [
    "### Quality\n",
    "\n",
    "Manually observing slices of a high dimensional space it seems that the\n",
    "retrieved items from pqlite are nearby the query and the best values from the exact and exhaustive distance computations."
   ]
  },
  {
   "cell_type": "code",
   "execution_count": null,
   "metadata": {
    "ExecuteTime": {
     "end_time": "2021-11-15T11:07:17.112059Z",
     "start_time": "2021-11-15T11:07:17.107346Z"
    },
    "code_folding": []
   },
   "outputs": [],
   "source": [
    "def _precision(predicted, relevant, eval_at):\n",
    "    \"\"\"\n",
    "    fraction of retrieved documents that are relevant to the query\n",
    "    \"\"\"\n",
    "    if eval_at == 0:\n",
    "        return 0.0\n",
    "    predicted_at_k = predicted[:eval_at]\n",
    "    n_predicted_and_relevant = len(set(predicted_at_k).intersection(set(relevant)))\n",
    "\n",
    "    return n_predicted_and_relevant / len(predicted)\n",
    "\n",
    "def _recall(predicted, relevant, eval_at):\n",
    "    \"\"\"\n",
    "    fraction of the relevant documents that are successfully retrieved\n",
    "    \"\"\"\n",
    "    if eval_at == 0:\n",
    "        return 0.0\n",
    "    predicted_at_k = predicted[:eval_at]\n",
    "    n_predicted_and_relevant = len(set(predicted_at_k).intersection(set(relevant)))\n",
    "    return n_predicted_and_relevant/ len(relevant)\n"
   ]
  },
  {
   "cell_type": "code",
   "execution_count": null,
   "metadata": {
    "ExecuteTime": {
     "end_time": "2021-11-15T11:07:17.157128Z",
     "start_time": "2021-11-15T11:07:17.150924Z"
    }
   },
   "outputs": [],
   "source": [
    "query = Xte[[11]]  \n",
    "true_distances = cdist(query, Xtr, metric='euclidean').flatten()\n",
    "\n",
    "true_ids = np.argsort(true_distances)[0:top_k]\n",
    "true_dists = true_distances[true_ids]"
   ]
  },
  {
   "cell_type": "code",
   "execution_count": null,
   "metadata": {
    "ExecuteTime": {
     "end_time": "2021-11-15T11:07:17.210980Z",
     "start_time": "2021-11-15T11:07:17.206314Z"
    }
   },
   "outputs": [],
   "source": [
    "true_ids.sort()\n",
    "true_ids"
   ]
  },
  {
   "cell_type": "code",
   "execution_count": null,
   "metadata": {
    "ExecuteTime": {
     "end_time": "2021-11-15T11:07:17.267968Z",
     "start_time": "2021-11-15T11:07:17.253367Z"
    }
   },
   "outputs": [],
   "source": [
    "pq_dists, pq_ids = pq.search(query,  k=top_k)\n",
    "pq_ids = np.array([int(x) for x in pq_ids[0]])"
   ]
  },
  {
   "cell_type": "code",
   "execution_count": null,
   "metadata": {
    "ExecuteTime": {
     "end_time": "2021-11-15T11:07:17.313398Z",
     "start_time": "2021-11-15T11:07:17.309275Z"
    },
    "scrolled": true
   },
   "outputs": [],
   "source": [
    "pq_ids.sort()\n",
    "pq_ids"
   ]
  },
  {
   "cell_type": "code",
   "execution_count": null,
   "metadata": {
    "ExecuteTime": {
     "end_time": "2021-11-15T11:07:17.407892Z",
     "start_time": "2021-11-15T11:07:17.404495Z"
    }
   },
   "outputs": [],
   "source": [
    "print(_precision(true_ids, pq_ids, top_k))\n",
    "print(_recall(true_ids, pq_ids, top_k))"
   ]
  },
  {
   "cell_type": "markdown",
   "metadata": {},
   "source": [
    "#### Plotting `pq neighbors` vs `true neighbors`"
   ]
  },
  {
   "cell_type": "code",
   "execution_count": null,
   "metadata": {
    "ExecuteTime": {
     "end_time": "2021-11-15T11:04:45.207285Z",
     "start_time": "2021-11-15T11:04:45.204068Z"
    }
   },
   "outputs": [],
   "source": [
    "import matplotlib.pyplot as plt\n",
    "\n",
    "def paint_slice(Xtr, query, feat1, feat2):\n",
    "    plt.scatter(Xtr[:,feat1], Xtr[:,feat2], color='blue', alpha=0.2)\n",
    "\n",
    "    for pq_id in pq_ids:\n",
    "        plt.scatter(Xtr[pq_id, feat1], Xtr[pq_id, feat2], color='black')\n",
    "\n",
    "    for true_id in true_ids:\n",
    "        plt.scatter(Xtr[true_id, feat1], Xtr[true_id, feat2], color='orange')\n",
    "\n",
    "    plt.scatter(query[:, feat1], query[:, feat2], color='red')\n",
    "    "
   ]
  },
  {
   "cell_type": "code",
   "execution_count": null,
   "metadata": {
    "ExecuteTime": {
     "end_time": "2021-11-15T11:04:48.289905Z",
     "start_time": "2021-11-15T11:04:46.914397Z"
    }
   },
   "outputs": [],
   "source": [
    "feat1, feat2 = 0, 1\n",
    "paint_slice(Xtr, query, feat1, feat2)"
   ]
  },
  {
   "cell_type": "code",
   "execution_count": null,
   "metadata": {
    "ExecuteTime": {
     "end_time": "2021-11-15T11:04:49.773728Z",
     "start_time": "2021-11-15T11:04:48.319030Z"
    }
   },
   "outputs": [],
   "source": [
    "feat1, feat2 = 8, 100\n",
    "paint_slice(Xtr, query, feat1, feat2)"
   ]
  },
  {
   "cell_type": "code",
   "execution_count": null,
   "metadata": {
    "ExecuteTime": {
     "end_time": "2021-11-15T11:04:51.227962Z",
     "start_time": "2021-11-15T11:04:49.805941Z"
    }
   },
   "outputs": [],
   "source": [
    "feat1, feat2 = 3,4\n",
    "paint_slice(Xtr, query, feat1, feat2)"
   ]
  },
  {
   "cell_type": "markdown",
   "metadata": {},
   "source": [
    "\n",
    "###  `precision, recall, query_time` vs `n_subvectors` &  `n_cells` "
   ]
  },
  {
   "cell_type": "code",
   "execution_count": null,
   "metadata": {
    "ExecuteTime": {
     "end_time": "2021-11-15T08:00:55.572927Z",
     "start_time": "2021-11-15T07:34:42.431045Z"
    },
    "code_folding": [],
    "scrolled": false
   },
   "outputs": [],
   "source": [
    "import time\n",
    "import numpy as np\n",
    "from pqlite import PQLite\n",
    "\n",
    "from jina.math.distance import cdist\n",
    "from jina.math.helper import top_k as _top_k\n",
    "import pandas as pd\n",
    "from sklearn.datasets import make_blobs\n",
    "from sklearn.model_selection import train_test_split\n",
    "\n",
    "def _precision(predicted, relevant, eval_at):\n",
    "    \"\"\"\n",
    "    fraction of retrieved documents that are relevant to the query\n",
    "    \"\"\"\n",
    "    if eval_at == 0:\n",
    "        return 0.0\n",
    "    predicted_at_k = predicted[:eval_at]\n",
    "    n_predicted_and_relevant = len(set(predicted_at_k).intersection(set(relevant)))\n",
    "\n",
    "    return n_predicted_and_relevant / len(predicted)\n",
    "\n",
    "def _recall(predicted, relevant, eval_at):\n",
    "    \"\"\"\n",
    "    fraction of the relevant documents that are successfully retrieved\n",
    "    \"\"\"\n",
    "    if eval_at == 0:\n",
    "        return 0.0\n",
    "    predicted_at_k = predicted[:eval_at]\n",
    "    n_predicted_and_relevant = len(set(predicted_at_k).intersection(set(relevant)))\n",
    "    return n_predicted_and_relevant/ len(relevant)\n",
    "\n",
    "def evaluate(predicts, relevants, eval_at):\n",
    "    recall = 0\n",
    "    precision = 0\n",
    "    for _predict, _relevant in zip(predicts, relevants):\n",
    "        _predict = np.array([int(x) for x in _predict])\n",
    "        recall += _recall(_predict, _relevant, top_k)\n",
    "        precision += _precision(_predict, _relevant, top_k)\n",
    "\n",
    "    return recall / len(predicts), precision / len(predicts)\n",
    "\n",
    "\n",
    "#N = 100_000 # number of data points\n",
    "Nt = 125_000\n",
    "Nq = 1\n",
    "D = 128 # dimentionality / number of features\n",
    "top_k = 10\n",
    "n_cells = 64\n",
    "n_subvectors = 64\n",
    "n_queries = 1000\n",
    "\n",
    "# 2,000 128-dim vectors for training\n",
    "np.random.seed(123)\n",
    "Xtr, Xte = train_test_split(make_blobs(n_samples = Nt, n_features = D)[0].astype(np.float32), test_size=20)\n",
    "print(f'Xtr: {Xtr.shape} vs Xte: {Xte.shape}')\n",
    "\n",
    "precision_per_query = []\n",
    "recall_per_query = []\n",
    "results = []\n",
    "\n",
    "for n_cells in [8, 16, 32, 64, 128]:\n",
    "    for n_subvectors in [32, 64, 128]:\n",
    "\n",
    "        pq = PQLite(d_vector=D,\n",
    "                    n_cells=n_cells,\n",
    "                    n_subvectors=n_subvectors)\n",
    "\n",
    "        t0 = time.time()\n",
    "        pq.fit(Xtr[:20480])\n",
    "        train_time = abs(time.time() - t0)\n",
    "\n",
    "        t0 = time.time()\n",
    "        pq.add(Xtr, ids=list(range(len(Xtr))))\n",
    "        index_time = abs(t0 - time.time())\n",
    "\n",
    "        dists = cdist(Xte, Xtr, metric='euclidean')\n",
    "        true_dists, true_ids = _top_k(dists, top_k, descending=False)\n",
    "\n",
    "        t0 = time.time()\n",
    "        pq_dists, pq_ids = pq.search(Xte, k=top_k)\n",
    "        query_time = abs(t0 - time.time())\n",
    "\n",
    "        recall, precision = evaluate(pq_ids, true_ids, top_k)\n",
    "\n",
    "        results_dict = {'precision': precision,\n",
    "                        'recall': recall,\n",
    "                        'train_time': train_time,\n",
    "                        'index_time': index_time,\n",
    "                        'query_time': query_time,\n",
    "                        'indexer_hyperparams': {'n_cells': n_cells,\n",
    "                                                'n_subvectors': n_subvectors}\n",
    "                        }\n",
    "        print(results_dict)\n",
    "\n",
    "        results.append(results_dict)"
   ]
  },
  {
   "cell_type": "code",
   "execution_count": null,
   "metadata": {
    "ExecuteTime": {
     "end_time": "2021-11-15T08:02:17.927767Z",
     "start_time": "2021-11-15T08:02:17.916723Z"
    }
   },
   "outputs": [],
   "source": [
    "import pandas as pd\n",
    "results_df = pd.DataFrame(results)\n",
    "results_df.sort_values('recall', ascending=False)"
   ]
  },
  {
   "cell_type": "code",
   "execution_count": null,
   "metadata": {},
   "outputs": [],
   "source": []
  },
  {
   "cell_type": "code",
   "execution_count": null,
   "metadata": {},
   "outputs": [],
   "source": []
  }
 ],
 "metadata": {
  "kernelspec": {
   "display_name": "Python 3 (ipykernel)",
   "language": "python",
   "name": "python3"
  },
  "language_info": {
   "codemirror_mode": {
    "name": "ipython",
    "version": 3
   },
   "file_extension": ".py",
   "mimetype": "text/x-python",
   "name": "python",
   "nbconvert_exporter": "python",
   "pygments_lexer": "ipython3",
   "version": "3.8.5"
  },
  "toc": {
   "base_numbering": 1,
   "nav_menu": {},
   "number_sections": true,
   "sideBar": true,
   "skip_h1_title": false,
   "title_cell": "Table of Contents",
   "title_sidebar": "Contents",
   "toc_cell": true,
   "toc_position": {
    "height": "calc(100% - 180px)",
    "left": "10px",
    "top": "150px",
    "width": "165px"
   },
   "toc_section_display": true,
   "toc_window_display": true
  },
  "varInspector": {
   "cols": {
    "lenName": 16,
    "lenType": 16,
    "lenVar": 40
   },
   "kernels_config": {
    "python": {
     "delete_cmd_postfix": "",
     "delete_cmd_prefix": "del ",
     "library": "var_list.py",
     "varRefreshCmd": "print(var_dic_list())"
    },
    "r": {
     "delete_cmd_postfix": ") ",
     "delete_cmd_prefix": "rm(",
     "library": "var_list.r",
     "varRefreshCmd": "cat(var_dic_list()) "
    }
   },
   "types_to_exclude": [
    "module",
    "function",
    "builtin_function_or_method",
    "instance",
    "_Feature"
   ],
   "window_display": false
  }
 },
 "nbformat": 4,
 "nbformat_minor": 4
}
